{
 "cells": [
  {
   "cell_type": "code",
   "id": "initial_id",
   "metadata": {
    "collapsed": true,
    "ExecuteTime": {
     "end_time": "2024-10-01T12:40:37.282252Z",
     "start_time": "2024-10-01T12:40:37.279049Z"
    }
   },
   "source": "import numpy as np",
   "outputs": [],
   "execution_count": 1
  },
  {
   "metadata": {
    "ExecuteTime": {
     "end_time": "2024-10-01T12:40:37.300713Z",
     "start_time": "2024-10-01T12:40:37.294259Z"
    }
   },
   "cell_type": "code",
   "source": [
    "\"\"\"unique - Unique Values\"\"\"\n",
    "arr = np.array([1, 2, 2, 3, 4, 4, 5])\n",
    "unique_values = np.unique(arr)\n",
    "print(unique_values)"
   ],
   "id": "a425b296073b3160",
   "outputs": [
    {
     "name": "stdout",
     "output_type": "stream",
     "text": [
      "[1 2 3 4 5]\n"
     ]
    }
   ],
   "execution_count": 2
  },
  {
   "metadata": {
    "ExecuteTime": {
     "end_time": "2024-10-01T12:40:37.388806Z",
     "start_time": "2024-10-01T12:40:37.383713Z"
    }
   },
   "cell_type": "code",
   "source": [
    "\"\"\"argmax, argmin - Index of Max/Min Element\"\"\"\n",
    "arr = np.array([10, 20, 30, 25, 15])\n",
    "max_index = np.argmax(arr)\n",
    "min_index = np.argmin(arr)\n",
    "print(max_index)  \n",
    "print(min_index)\n"
   ],
   "id": "5bc232c5e51db52b",
   "outputs": [
    {
     "name": "stdout",
     "output_type": "stream",
     "text": [
      "2\n",
      "0\n"
     ]
    }
   ],
   "execution_count": 3
  },
  {
   "metadata": {
    "ExecuteTime": {
     "end_time": "2024-10-01T12:40:37.421993Z",
     "start_time": "2024-10-01T12:40:37.417812Z"
    }
   },
   "cell_type": "code",
   "source": [
    "\"\"\"arange - Creates Sequential NumPy Arrays\"\"\"\n",
    "arr = np.arange(0, 10, 2)\n",
    "print(arr)"
   ],
   "id": "ed9726d6351f24b8",
   "outputs": [
    {
     "name": "stdout",
     "output_type": "stream",
     "text": [
      "[0 2 4 6 8]\n"
     ]
    }
   ],
   "execution_count": 4
  },
  {
   "metadata": {
    "ExecuteTime": {
     "end_time": "2024-10-01T12:40:37.461876Z",
     "start_time": "2024-10-01T12:40:37.458019Z"
    }
   },
   "cell_type": "code",
   "source": [
    "\"\"\"linspace - Creates Sequential NumPy Arrays with Linear Space\"\"\"\n",
    "arr = np.linspace(0, 1, 5)\n",
    "print(arr) "
   ],
   "id": "91b6483b2691c199",
   "outputs": [
    {
     "name": "stdout",
     "output_type": "stream",
     "text": [
      "[0.   0.25 0.5  0.75 1.  ]\n"
     ]
    }
   ],
   "execution_count": 5
  },
  {
   "metadata": {
    "ExecuteTime": {
     "end_time": "2024-10-01T12:40:37.495439Z",
     "start_time": "2024-10-01T12:40:37.490869Z"
    }
   },
   "cell_type": "code",
   "source": [
    "\"\"\"split - Splits a NumPy Array into Different Arrays\"\"\"\n",
    "arr = np.array([1, 2, 3, 4, 5, 6])\n",
    "arr_split = np.split(arr, 3)\n",
    "print(arr_split)"
   ],
   "id": "37a02e99f1cdfd3f",
   "outputs": [
    {
     "name": "stdout",
     "output_type": "stream",
     "text": [
      "[array([1, 2]), array([3, 4]), array([5, 6])]\n"
     ]
    }
   ],
   "execution_count": 6
  },
  {
   "metadata": {
    "ExecuteTime": {
     "end_time": "2024-10-01T12:40:37.539262Z",
     "start_time": "2024-10-01T12:40:37.534648Z"
    }
   },
   "cell_type": "code",
   "source": [
    "\"\"\"dot - Dot Product of Two Arrays\"\"\"\n",
    "arr1 = np.array([1, 2])\n",
    "arr2 = np.array([3, 4])\n",
    "dot_product = np.dot(arr1, arr2)\n",
    "print(dot_product)"
   ],
   "id": "ed6a06dbbe63dff3",
   "outputs": [
    {
     "name": "stdout",
     "output_type": "stream",
     "text": [
      "11\n"
     ]
    }
   ],
   "execution_count": 7
  },
  {
   "metadata": {
    "ExecuteTime": {
     "end_time": "2024-10-01T12:40:37.570794Z",
     "start_time": "2024-10-01T12:40:37.565420Z"
    }
   },
   "cell_type": "code",
   "source": [
    "\"\"\"mean, median, std - Generate Statistical Values\"\"\"\n",
    "arr = np.array([1, 2, 3, 4, 5])\n",
    "mean_value = np.mean(arr)\n",
    "median_value = np.median(arr)\n",
    "std_deviation = np.std(arr)\n",
    "print(mean_value) \n",
    "print(median_value)\n",
    "print(std_deviation)"
   ],
   "id": "2c67a3046cc5506",
   "outputs": [
    {
     "name": "stdout",
     "output_type": "stream",
     "text": [
      "3.0\n",
      "3.0\n",
      "1.4142135623730951\n"
     ]
    }
   ],
   "execution_count": 8
  },
  {
   "metadata": {
    "ExecuteTime": {
     "end_time": "2024-10-01T12:40:37.600265Z",
     "start_time": "2024-10-01T12:40:37.595586Z"
    }
   },
   "cell_type": "code",
   "source": [
    "\"\"\"concatenate - Concatenate Arrays (Check Axis)\"\"\"\n",
    "arr1 = np.array([[1, 2], [3, 4]])\n",
    "arr2 = np.array([[5, 6]])\n",
    "concatenated = np.concatenate((arr1, arr2), axis=0)\n",
    "print(concatenated)"
   ],
   "id": "7ca889ef7516524",
   "outputs": [
    {
     "name": "stdout",
     "output_type": "stream",
     "text": [
      "[[1 2]\n",
      " [3 4]\n",
      " [5 6]]\n"
     ]
    }
   ],
   "execution_count": 9
  },
  {
   "metadata": {
    "ExecuteTime": {
     "end_time": "2024-10-01T12:40:37.640434Z",
     "start_time": "2024-10-01T12:40:37.635547Z"
    }
   },
   "cell_type": "code",
   "source": [
    "\"\"\"vstack, hstack - Stack Arrays Vertically/Horizontally\"\"\"\n",
    "arr1 = np.array([1, 2, 3])\n",
    "arr2 = np.array([4, 5, 6])\n",
    "vstacked = np.vstack((arr1, arr2))\n",
    "hstacked = np.hstack((arr1, arr2))\n",
    "print('vstacked: ',vstacked)\n",
    "print('hstacked: ',hstacked)"
   ],
   "id": "90011b078a5f788b",
   "outputs": [
    {
     "name": "stdout",
     "output_type": "stream",
     "text": [
      "vstacked:  [[1 2 3]\n",
      " [4 5 6]]\n",
      "hstacked:  [1 2 3 4 5 6]\n"
     ]
    }
   ],
   "execution_count": 10
  },
  {
   "metadata": {
    "ExecuteTime": {
     "end_time": "2024-10-01T12:40:37.672287Z",
     "start_time": "2024-10-01T12:40:37.668267Z"
    }
   },
   "cell_type": "code",
   "source": [
    "\"\"\"sum - Sum of Array Elements\"\"\"\n",
    "arr = np.array([1, 2, 3, 4, 5])\n",
    "total_sum = np.sum(arr)\n",
    "print(total_sum)"
   ],
   "id": "4eb5665e3e68d7ef",
   "outputs": [
    {
     "name": "stdout",
     "output_type": "stream",
     "text": [
      "15\n"
     ]
    }
   ],
   "execution_count": 11
  },
  {
   "metadata": {
    "ExecuteTime": {
     "end_time": "2024-10-01T12:40:37.699698Z",
     "start_time": "2024-10-01T12:40:37.694427Z"
    }
   },
   "cell_type": "code",
   "source": [
    "\"\"\"Matrix Transpose\"\"\"\n",
    "np_2d_array = np.array([[1, 2, 3, 4, 5, 6, 7, 8, 9, 10, 11, 12, 13, 14, 15, 16, 17, 18, 19, 20, 21, 22, 23, 24, 25], [26, 27, 28, 29, 30, 31, 32, 33, 34, 35, 36, 37, 38, 39, 40, 41, 42, 43, 44, 45, 46, 47, 48, 49, 50]])\n",
    "print(np_2d_array.transpose())"
   ],
   "id": "633dc8212d588c93",
   "outputs": [
    {
     "name": "stdout",
     "output_type": "stream",
     "text": [
      "[[ 1 26]\n",
      " [ 2 27]\n",
      " [ 3 28]\n",
      " [ 4 29]\n",
      " [ 5 30]\n",
      " [ 6 31]\n",
      " [ 7 32]\n",
      " [ 8 33]\n",
      " [ 9 34]\n",
      " [10 35]\n",
      " [11 36]\n",
      " [12 37]\n",
      " [13 38]\n",
      " [14 39]\n",
      " [15 40]\n",
      " [16 41]\n",
      " [17 42]\n",
      " [18 43]\n",
      " [19 44]\n",
      " [20 45]\n",
      " [21 46]\n",
      " [22 47]\n",
      " [23 48]\n",
      " [24 49]\n",
      " [25 50]]\n"
     ]
    }
   ],
   "execution_count": 12
  },
  {
   "metadata": {
    "ExecuteTime": {
     "end_time": "2024-10-01T12:42:09.238647Z",
     "start_time": "2024-10-01T12:42:09.234124Z"
    }
   },
   "cell_type": "code",
   "source": [
    "\"\"\"Random Suffle\"\"\"\n",
    "# np.random.seed(42)\n",
    "my_np_array = np.random.randint(5, size=(5,))\n",
    "print(my_np_array)\n",
    "np.random.shuffle(my_np_array)\n",
    "print(my_np_array)"
   ],
   "id": "e4bfa5413fd4863f",
   "outputs": [
    {
     "name": "stdout",
     "output_type": "stream",
     "text": [
      "[0 0 2 2 1]\n",
      "[0 0 2 1 2]\n"
     ]
    }
   ],
   "execution_count": 28
  },
  {
   "metadata": {
    "ExecuteTime": {
     "end_time": "2024-10-01T12:40:37.971766Z",
     "start_time": "2024-10-01T12:40:37.962045Z"
    }
   },
   "cell_type": "code",
   "source": [
    "\"\"\"Matrix Transpose\"\"\"\n",
    "np_2d_array = np.array([[1, 2, 3, 4, 5, 6, 7, 8, 9, 10, 11, 12, 13, 14, 15, 16, 17, 18, 19, 20, 21, 22, 23, 24, 25], [26, 27, 28, 29, 30, 31, 32, 33, 34, 35, 36, 37, 38, 39, 40, 41, 42, 43, 44, 45, 46, 47, 48, 49, 50]])\n",
    "print(np_2d_array.T)"
   ],
   "id": "a797b875ce7aeed",
   "outputs": [
    {
     "name": "stdout",
     "output_type": "stream",
     "text": [
      "[[ 1 26]\n",
      " [ 2 27]\n",
      " [ 3 28]\n",
      " [ 4 29]\n",
      " [ 5 30]\n",
      " [ 6 31]\n",
      " [ 7 32]\n",
      " [ 8 33]\n",
      " [ 9 34]\n",
      " [10 35]\n",
      " [11 36]\n",
      " [12 37]\n",
      " [13 38]\n",
      " [14 39]\n",
      " [15 40]\n",
      " [16 41]\n",
      " [17 42]\n",
      " [18 43]\n",
      " [19 44]\n",
      " [20 45]\n",
      " [21 46]\n",
      " [22 47]\n",
      " [23 48]\n",
      " [24 49]\n",
      " [25 50]]\n"
     ]
    }
   ],
   "execution_count": 13
  },
  {
   "metadata": {
    "ExecuteTime": {
     "end_time": "2024-10-01T12:43:39.483732Z",
     "start_time": "2024-10-01T12:43:39.467580Z"
    }
   },
   "cell_type": "code",
   "source": [
    "data_set = np.random.rand(1000,5)\n",
    "print(\"Data Set: \\n\",data_set)"
   ],
   "id": "1e774280b2ada0ca",
   "outputs": [
    {
     "name": "stdout",
     "output_type": "stream",
     "text": [
      "Data Set: \n",
      " [[0.09060643 0.61838601 0.38246199 0.98323089 0.46676289]\n",
      " [0.85994041 0.68030754 0.45049925 0.01326496 0.94220176]\n",
      " [0.56328822 0.3854165  0.01596625 0.23089383 0.24102547]\n",
      " ...\n",
      " [0.82767519 0.73986783 0.78902284 0.11910654 0.14054713]\n",
      " [0.28647374 0.51807717 0.74801608 0.83653089 0.70433532]\n",
      " [0.92859688 0.73874351 0.30626789 0.26508128 0.69619245]]\n"
     ]
    }
   ],
   "execution_count": 29
  },
  {
   "metadata": {
    "ExecuteTime": {
     "end_time": "2024-10-01T12:45:11.018319Z",
     "start_time": "2024-10-01T12:45:11.010591Z"
    }
   },
   "cell_type": "code",
   "source": "data_set[:5]",
   "id": "5dd51e01621f8f38",
   "outputs": [
    {
     "data": {
      "text/plain": [
       "array([[0.09060643, 0.61838601, 0.38246199, 0.98323089, 0.46676289],\n",
       "       [0.85994041, 0.68030754, 0.45049925, 0.01326496, 0.94220176],\n",
       "       [0.56328822, 0.3854165 , 0.01596625, 0.23089383, 0.24102547],\n",
       "       [0.68326352, 0.60999666, 0.83319491, 0.17336465, 0.39106061],\n",
       "       [0.18223609, 0.75536141, 0.42515587, 0.20794166, 0.56770033]])"
      ]
     },
     "execution_count": 30,
     "metadata": {},
     "output_type": "execute_result"
    }
   ],
   "execution_count": 30
  },
  {
   "metadata": {
    "ExecuteTime": {
     "end_time": "2024-10-01T12:50:05.521618Z",
     "start_time": "2024-10-01T12:50:05.516823Z"
    }
   },
   "cell_type": "code",
   "source": [
    "\"\"\"Split\"\"\"\n",
    "index_1 = int(0.8 * len(data_set))\n",
    "index_2 = int(0.9 * len(data_set))\n",
    "\n",
    "trainset, valset, testset = np.split(\n",
    "    data_set, [index_1, index_2]\n",
    ")\n",
    "print(len(trainset), len(valset), len(testset))\n",
    "\n"
   ],
   "id": "b9feddf6a42795ad",
   "outputs": [
    {
     "name": "stdout",
     "output_type": "stream",
     "text": [
      "800 100 100\n"
     ]
    }
   ],
   "execution_count": 33
  },
  {
   "metadata": {},
   "cell_type": "code",
   "outputs": [],
   "execution_count": null,
   "source": "",
   "id": "dd5304fd6dab497e"
  },
  {
   "metadata": {},
   "cell_type": "code",
   "outputs": [],
   "execution_count": null,
   "source": "",
   "id": "b291b7bff48c5ed3"
  }
 ],
 "metadata": {
  "kernelspec": {
   "display_name": "Python 3",
   "language": "python",
   "name": "python3"
  },
  "language_info": {
   "codemirror_mode": {
    "name": "ipython",
    "version": 2
   },
   "file_extension": ".py",
   "mimetype": "text/x-python",
   "name": "python",
   "nbconvert_exporter": "python",
   "pygments_lexer": "ipython2",
   "version": "2.7.6"
  }
 },
 "nbformat": 4,
 "nbformat_minor": 5
}
