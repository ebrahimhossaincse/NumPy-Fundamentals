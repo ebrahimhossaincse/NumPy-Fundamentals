{
 "cells": [
  {
   "cell_type": "code",
   "id": "initial_id",
   "metadata": {
    "collapsed": true,
    "ExecuteTime": {
     "end_time": "2024-09-26T11:09:16.047864Z",
     "start_time": "2024-09-26T11:09:15.888674Z"
    }
   },
   "source": "import numpy as np",
   "outputs": [],
   "execution_count": 1
  },
  {
   "metadata": {
    "ExecuteTime": {
     "end_time": "2024-09-26T11:10:47.833882Z",
     "start_time": "2024-09-26T11:10:47.826228Z"
    }
   },
   "cell_type": "code",
   "source": [
    "\"\"\"unique - Unique Values\"\"\"\n",
    "arr = np.array([1, 2, 2, 3, 4, 4, 5])\n",
    "unique_values = np.unique(arr)\n",
    "print(unique_values)"
   ],
   "id": "a425b296073b3160",
   "outputs": [
    {
     "name": "stdout",
     "output_type": "stream",
     "text": [
      "[1 2 3 4 5]\n"
     ]
    }
   ],
   "execution_count": 2
  },
  {
   "metadata": {
    "ExecuteTime": {
     "end_time": "2024-09-26T11:11:16.307859Z",
     "start_time": "2024-09-26T11:11:16.290663Z"
    }
   },
   "cell_type": "code",
   "source": [
    "\"\"\"argmax, argmin - Index of Max/Min Element\"\"\"\n",
    "arr = np.array([10, 20, 30, 25, 15])\n",
    "max_index = np.argmax(arr)\n",
    "min_index = np.argmin(arr)\n",
    "print(max_index)  \n",
    "print(min_index)\n"
   ],
   "id": "5bc232c5e51db52b",
   "outputs": [
    {
     "name": "stdout",
     "output_type": "stream",
     "text": [
      "2\n",
      "0\n"
     ]
    }
   ],
   "execution_count": 3
  },
  {
   "metadata": {
    "ExecuteTime": {
     "end_time": "2024-09-26T11:12:08.763949Z",
     "start_time": "2024-09-26T11:12:08.748414Z"
    }
   },
   "cell_type": "code",
   "source": [
    "\"\"\"arange - Creates Sequential NumPy Arrays\"\"\"\n",
    "arr = np.arange(0, 10, 2)\n",
    "print(arr)"
   ],
   "id": "ed9726d6351f24b8",
   "outputs": [
    {
     "name": "stdout",
     "output_type": "stream",
     "text": [
      "[0 2 4 6 8]\n"
     ]
    }
   ],
   "execution_count": 4
  },
  {
   "metadata": {
    "ExecuteTime": {
     "end_time": "2024-09-26T11:12:44.437819Z",
     "start_time": "2024-09-26T11:12:44.430402Z"
    }
   },
   "cell_type": "code",
   "source": [
    "\"\"\"linspace - Creates Sequential NumPy Arrays with Linear Space\"\"\"\n",
    "arr = np.linspace(0, 1, 5)\n",
    "print(arr) "
   ],
   "id": "91b6483b2691c199",
   "outputs": [
    {
     "name": "stdout",
     "output_type": "stream",
     "text": [
      "[0.   0.25 0.5  0.75 1.  ]\n"
     ]
    }
   ],
   "execution_count": 5
  },
  {
   "metadata": {
    "ExecuteTime": {
     "end_time": "2024-09-26T11:13:24.692159Z",
     "start_time": "2024-09-26T11:13:24.676088Z"
    }
   },
   "cell_type": "code",
   "source": [
    "\"\"\"split - Splits a NumPy Array into Different Arrays\"\"\"\n",
    "arr = np.array([1, 2, 3, 4, 5, 6])\n",
    "arr_split = np.split(arr, 3)\n",
    "print(arr_split)"
   ],
   "id": "37a02e99f1cdfd3f",
   "outputs": [
    {
     "name": "stdout",
     "output_type": "stream",
     "text": [
      "[array([1, 2]), array([3, 4]), array([5, 6])]\n"
     ]
    }
   ],
   "execution_count": 6
  },
  {
   "metadata": {
    "ExecuteTime": {
     "end_time": "2024-09-26T11:14:05.627167Z",
     "start_time": "2024-09-26T11:14:05.620734Z"
    }
   },
   "cell_type": "code",
   "source": [
    "\"\"\"dot - Dot Product of Two Arrays\"\"\"\n",
    "arr1 = np.array([1, 2])\n",
    "arr2 = np.array([3, 4])\n",
    "dot_product = np.dot(arr1, arr2)\n",
    "print(dot_product)"
   ],
   "id": "ed6a06dbbe63dff3",
   "outputs": [
    {
     "name": "stdout",
     "output_type": "stream",
     "text": [
      "11\n"
     ]
    }
   ],
   "execution_count": 7
  },
  {
   "metadata": {
    "ExecuteTime": {
     "end_time": "2024-09-26T11:14:44.790301Z",
     "start_time": "2024-09-26T11:14:44.771384Z"
    }
   },
   "cell_type": "code",
   "source": [
    "\"\"\"mean, median, std - Generate Statistical Values\"\"\"\n",
    "arr = np.array([1, 2, 3, 4, 5])\n",
    "mean_value = np.mean(arr)\n",
    "median_value = np.median(arr)\n",
    "std_deviation = np.std(arr)\n",
    "print(mean_value) \n",
    "print(median_value)\n",
    "print(std_deviation)"
   ],
   "id": "2c67a3046cc5506",
   "outputs": [
    {
     "name": "stdout",
     "output_type": "stream",
     "text": [
      "3.0\n",
      "3.0\n",
      "1.4142135623730951\n"
     ]
    }
   ],
   "execution_count": 8
  },
  {
   "metadata": {
    "ExecuteTime": {
     "end_time": "2024-09-26T11:17:08.824399Z",
     "start_time": "2024-09-26T11:17:08.816580Z"
    }
   },
   "cell_type": "code",
   "source": [
    "\"\"\"concatenate - Concatenate Arrays (Check Axis)\"\"\"\n",
    "arr1 = np.array([[1, 2], [3, 4]])\n",
    "arr2 = np.array([[5, 6]])\n",
    "concatenated = np.concatenate((arr1, arr2), axis=0)\n",
    "print(concatenated)"
   ],
   "id": "7ca889ef7516524",
   "outputs": [
    {
     "name": "stdout",
     "output_type": "stream",
     "text": [
      "[[1 2]\n",
      " [3 4]\n",
      " [5 6]]\n"
     ]
    }
   ],
   "execution_count": 9
  },
  {
   "metadata": {
    "ExecuteTime": {
     "end_time": "2024-09-26T11:19:11.631348Z",
     "start_time": "2024-09-26T11:19:11.625410Z"
    }
   },
   "cell_type": "code",
   "source": [
    "\"\"\"vstack, hstack - Stack Arrays Vertically/Horizontally\"\"\"\n",
    "arr1 = np.array([1, 2, 3])\n",
    "arr2 = np.array([4, 5, 6])\n",
    "vstacked = np.vstack((arr1, arr2))\n",
    "hstacked = np.hstack((arr1, arr2))\n",
    "print('vstacked: ',vstacked)\n",
    "print('hstacked: ',hstacked)"
   ],
   "id": "90011b078a5f788b",
   "outputs": [
    {
     "name": "stdout",
     "output_type": "stream",
     "text": [
      "vstacked:  [[1 2 3]\n",
      " [4 5 6]]\n",
      "hstacked:  [1 2 3 4 5 6]\n"
     ]
    }
   ],
   "execution_count": 12
  },
  {
   "metadata": {
    "ExecuteTime": {
     "end_time": "2024-09-26T11:19:32.264873Z",
     "start_time": "2024-09-26T11:19:32.248678Z"
    }
   },
   "cell_type": "code",
   "source": [
    "\"\"\"sum - Sum of Array Elements\"\"\"\n",
    "arr = np.array([1, 2, 3, 4, 5])\n",
    "total_sum = np.sum(arr)\n",
    "print(total_sum)"
   ],
   "id": "4eb5665e3e68d7ef",
   "outputs": [
    {
     "name": "stdout",
     "output_type": "stream",
     "text": [
      "15\n"
     ]
    }
   ],
   "execution_count": 13
  },
  {
   "metadata": {},
   "cell_type": "code",
   "outputs": [],
   "execution_count": null,
   "source": "",
   "id": "633dc8212d588c93"
  }
 ],
 "metadata": {
  "kernelspec": {
   "display_name": "Python 3",
   "language": "python",
   "name": "python3"
  },
  "language_info": {
   "codemirror_mode": {
    "name": "ipython",
    "version": 2
   },
   "file_extension": ".py",
   "mimetype": "text/x-python",
   "name": "python",
   "nbconvert_exporter": "python",
   "pygments_lexer": "ipython2",
   "version": "2.7.6"
  }
 },
 "nbformat": 4,
 "nbformat_minor": 5
}
