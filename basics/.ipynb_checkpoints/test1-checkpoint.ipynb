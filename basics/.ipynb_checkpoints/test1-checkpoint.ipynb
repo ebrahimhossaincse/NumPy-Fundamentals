{
 "cells": [
  {
   "cell_type": "code",
   "id": "initial_id",
   "metadata": {
    "collapsed": true,
    "jupyter": {
     "is_executing": true
    },
    "ExecuteTime": {
     "start_time": "2024-10-01T07:57:10.200144Z"
    }
   },
   "source": [
    "import numpy as np\n",
    "from holoviews.examples.gallery.apps.bokeh.game_of_life import shapes\n",
    "from numpy import dtype\n",
    "from statsmodels.sandbox.distributions.genpareto import shape\n",
    "\n",
    "print(np.__version__)"
   ],
   "outputs": [],
   "execution_count": null
  },
  {
   "metadata": {
    "ExecuteTime": {
     "end_time": "2024-09-26T13:37:35.684200Z",
     "start_time": "2024-09-26T13:37:35.670985Z"
    }
   },
   "cell_type": "code",
   "source": [
    "my_np_array = np.array([1, 2, 3])\n",
    "print(my_np_array)\n",
    "print(my_np_array.dtype)\n",
    "print(my_np_array.shape)\n",
    "print(my_np_array.size)\n",
    "print(my_np_array.ndim)"
   ],
   "id": "c08a3517373b86a",
   "outputs": [
    {
     "name": "stdout",
     "output_type": "stream",
     "text": [
      "[1 2 3]\n",
      "int32\n",
      "(3,)\n",
      "3\n",
      "1\n"
     ]
    }
   ],
   "execution_count": 3
  },
  {
   "metadata": {
    "ExecuteTime": {
     "end_time": "2024-09-26T13:37:35.775355Z",
     "start_time": "2024-09-26T13:37:35.766116Z"
    }
   },
   "cell_type": "code",
   "source": [
    "my_np_array2 = np.array([[1, 2, 3],[4,5,6]])\n",
    "print(my_np_array2)\n",
    "print(my_np_array2.dtype)\n",
    "print(my_np_array2.shape)\n",
    "print(my_np_array2.size)\n",
    "print(my_np_array2.ndim)"
   ],
   "id": "a3a6e53000c964fe",
   "outputs": [
    {
     "name": "stdout",
     "output_type": "stream",
     "text": [
      "[[1 2 3]\n",
      " [4 5 6]]\n",
      "int32\n",
      "(2, 3)\n",
      "6\n",
      "2\n"
     ]
    }
   ],
   "execution_count": 4
  },
  {
   "metadata": {
    "ExecuteTime": {
     "end_time": "2024-09-26T13:37:35.877446Z",
     "start_time": "2024-09-26T13:37:35.866283Z"
    }
   },
   "cell_type": "code",
   "source": [
    "np_my_array3=np.array([[1, 2],[4,5],[7,8]])\n",
    "print(np_my_array3)\n",
    "print(np_my_array3.dtype)\n",
    "print(np_my_array3.shape)\n",
    "print(np_my_array3.size)\n",
    "print(np_my_array3.ndim)\n"
   ],
   "id": "376cd4cc9c25f678",
   "outputs": [
    {
     "name": "stdout",
     "output_type": "stream",
     "text": [
      "[[1 2]\n",
      " [4 5]\n",
      " [7 8]]\n",
      "int32\n",
      "(3, 2)\n",
      "6\n",
      "2\n"
     ]
    }
   ],
   "execution_count": 5
  },
  {
   "metadata": {
    "ExecuteTime": {
     "end_time": "2024-09-26T13:37:35.968832Z",
     "start_time": "2024-09-26T13:37:35.954729Z"
    }
   },
   "cell_type": "code",
   "source": [
    "np_my_array4 = np.array([1, 3, 5, 7, 2, 4, 6, 8])\n",
    "#Slice from index 4 to end\n",
    "print(np_my_array4[4:])\n",
    "#Slice beganing to index 4\n",
    "print(np_my_array4[:5])\n",
    "#slice \n",
    "print(np_my_array4[-3:-1])\n",
    "\n",
    "print(np_my_array4[1:5:2])\n",
    "\n",
    "print(np_my_array4[::2])\n",
    "\n",
    "print(np.reshape(np_my_array4,(4,2)))"
   ],
   "id": "4418ec2448d8c674",
   "outputs": [
    {
     "name": "stdout",
     "output_type": "stream",
     "text": [
      "[2 4 6 8]\n",
      "[1 3 5 7 2]\n",
      "[4 6]\n",
      "[3 7]\n",
      "[1 5 2 6]\n",
      "[[1 3]\n",
      " [5 7]\n",
      " [2 4]\n",
      " [6 8]]\n"
     ]
    }
   ],
   "execution_count": 6
  },
  {
   "metadata": {
    "ExecuteTime": {
     "end_time": "2024-09-26T13:37:36.032066Z",
     "start_time": "2024-09-26T13:37:36.025294Z"
    }
   },
   "cell_type": "code",
   "source": [
    "#Zeros shape\n",
    "zeros_np_array = np.zeros(\n",
    "    shape=(5,)\n",
    ")\n",
    "print(zeros_np_array)"
   ],
   "id": "97887ce58c4a1042",
   "outputs": [
    {
     "name": "stdout",
     "output_type": "stream",
     "text": [
      "[0. 0. 0. 0. 0.]\n"
     ]
    }
   ],
   "execution_count": 7
  },
  {
   "metadata": {
    "ExecuteTime": {
     "end_time": "2024-09-26T13:37:36.093351Z",
     "start_time": "2024-09-26T13:37:36.084963Z"
    }
   },
   "cell_type": "code",
   "source": [
    "ones_np_array = np.ones(\n",
    "    shape=(5,)\n",
    ")\n",
    "print(ones_np_array)"
   ],
   "id": "8842ed5c550a7dde",
   "outputs": [
    {
     "name": "stdout",
     "output_type": "stream",
     "text": [
      "[1. 1. 1. 1. 1.]\n"
     ]
    }
   ],
   "execution_count": 8
  },
  {
   "metadata": {
    "ExecuteTime": {
     "end_time": "2024-09-26T13:37:36.150706Z",
     "start_time": "2024-09-26T13:37:36.143974Z"
    }
   },
   "cell_type": "code",
   "source": [
    "assigned_with_specific_array = np.full(\n",
    "    shape = (10,),\n",
    "    fill_value = 20\n",
    ")\n",
    "print(assigned_with_specific_array)"
   ],
   "id": "b6407a4b9c6a194a",
   "outputs": [
    {
     "name": "stdout",
     "output_type": "stream",
     "text": [
      "[20 20 20 20 20 20 20 20 20 20]\n"
     ]
    }
   ],
   "execution_count": 9
  },
  {
   "metadata": {
    "ExecuteTime": {
     "end_time": "2024-09-26T13:37:36.196134Z",
     "start_time": "2024-09-26T13:37:36.190352Z"
    }
   },
   "cell_type": "code",
   "source": [
    "identity_matrix = np.eye(\n",
    "    4,\n",
    "    dtype = int\n",
    ")\n",
    "print(identity_matrix.tolist())"
   ],
   "id": "9f89c6589eb30f2d",
   "outputs": [
    {
     "name": "stdout",
     "output_type": "stream",
     "text": [
      "[[1, 0, 0, 0], [0, 1, 0, 0], [0, 0, 1, 0], [0, 0, 0, 1]]\n"
     ]
    }
   ],
   "execution_count": 10
  },
  {
   "metadata": {
    "ExecuteTime": {
     "end_time": "2024-09-26T13:37:36.245320Z",
     "start_time": "2024-09-26T13:37:36.237656Z"
    }
   },
   "cell_type": "code",
   "source": [
    "my_empty_array = np.empty(\n",
    "    shape = (5,)\n",
    ")\n",
    "print(my_empty_array)"
   ],
   "id": "8d50c9d133c540cf",
   "outputs": [
    {
     "name": "stdout",
     "output_type": "stream",
     "text": [
      "[0. 0. 0. 0. 0.]\n"
     ]
    }
   ],
   "execution_count": 11
  },
  {
   "metadata": {
    "ExecuteTime": {
     "end_time": "2024-09-26T13:37:36.290912Z",
     "start_time": "2024-09-26T13:37:36.284589Z"
    }
   },
   "cell_type": "code",
   "source": [
    "my_empty_array_int = my_empty_array.astype('int')\n",
    "print(my_empty_array_int)\n",
    "print(my_empty_array_int.dtype)\n"
   ],
   "id": "b482108a15f85e48",
   "outputs": [
    {
     "name": "stdout",
     "output_type": "stream",
     "text": [
      "[0 0 0 0 0]\n",
      "int32\n"
     ]
    }
   ],
   "execution_count": 12
  },
  {
   "metadata": {
    "ExecuteTime": {
     "end_time": "2024-09-26T13:37:36.366850Z",
     "start_time": "2024-09-26T13:37:36.354574Z"
    }
   },
   "cell_type": "code",
   "source": [
    "np_2d_array = np.ones(\n",
    "    shape = (10,4),\n",
    "    dtype = int\n",
    ")\n",
    "print(np_2d_array)\n",
    "print(np_2d_array.ndim)"
   ],
   "id": "8882b6c57ed403cc",
   "outputs": [
    {
     "name": "stdout",
     "output_type": "stream",
     "text": [
      "[[1 1 1 1]\n",
      " [1 1 1 1]\n",
      " [1 1 1 1]\n",
      " [1 1 1 1]\n",
      " [1 1 1 1]\n",
      " [1 1 1 1]\n",
      " [1 1 1 1]\n",
      " [1 1 1 1]\n",
      " [1 1 1 1]\n",
      " [1 1 1 1]]\n",
      "2\n"
     ]
    }
   ],
   "execution_count": 13
  },
  {
   "metadata": {
    "ExecuteTime": {
     "end_time": "2024-09-26T13:37:36.483838Z",
     "start_time": "2024-09-26T13:37:36.442592Z"
    }
   },
   "cell_type": "code",
   "source": [
    "my_np_1d_array = np.array([1, 2, 3,4,5,6])\n",
    "print(my_np_1d_array[2])\n",
    "print(my_np_1d_array[-4])"
   ],
   "id": "9629f4fed2403e66",
   "outputs": [
    {
     "name": "stdout",
     "output_type": "stream",
     "text": [
      "3\n",
      "3\n"
     ]
    }
   ],
   "execution_count": 14
  },
  {
   "metadata": {
    "ExecuteTime": {
     "end_time": "2024-09-26T13:37:36.787506Z",
     "start_time": "2024-09-26T13:37:36.775840Z"
    }
   },
   "cell_type": "code",
   "source": [
    "np_2d_array = np.array(\n",
    "    [\n",
    "        [1, 2, 3, 4], \n",
    "        [5, 6, 7, 8], \n",
    "        [9, 10, 11, 12], \n",
    "        [11, 14, 15, 16]\n",
    "     ]\n",
    ")\n",
    "np_2d_array\n",
    "# print(np_2d_array)\n",
    "\n",
    "print(np_2d_array[1:4, 1:3])"
   ],
   "id": "c1962e70558062c0",
   "outputs": [
    {
     "name": "stdout",
     "output_type": "stream",
     "text": [
      "[[ 6  7]\n",
      " [10 11]\n",
      " [14 15]]\n"
     ]
    }
   ],
   "execution_count": 15
  },
  {
   "metadata": {
    "ExecuteTime": {
     "end_time": "2024-09-26T13:42:57.002801Z",
     "start_time": "2024-09-26T13:42:56.995754Z"
    }
   },
   "cell_type": "code",
   "source": [
    "my_np_array1 = np.empty((1,2,3))\n",
    "my_np_array2 = np.empty((1,2,3))\n",
    "my_np_array_joined = np.concatenate(\n",
    "    (my_np_array1, my_np_array2),\n",
    "    axis=0\n",
    ")\n",
    "my_np_array_joined"
   ],
   "id": "2df22e0d6536ab85",
   "outputs": [
    {
     "data": {
      "text/plain": [
       "array([[[0.46347222, 0.33722222, 0.46347222],\n",
       "        [4.03322222, 5.42347222, 0.33722222]],\n",
       "\n",
       "       [[0.46347222, 0.33722222, 0.46347222],\n",
       "        [4.03322222, 5.42347222, 0.33722222]]])"
      ]
     },
     "execution_count": 21,
     "metadata": {},
     "output_type": "execute_result"
    }
   ],
   "execution_count": 21
  }
 ],
 "metadata": {
  "kernelspec": {
   "display_name": "Python 3",
   "language": "python",
   "name": "python3"
  },
  "language_info": {
   "codemirror_mode": {
    "name": "ipython",
    "version": 2
   },
   "file_extension": ".py",
   "mimetype": "text/x-python",
   "name": "python",
   "nbconvert_exporter": "python",
   "pygments_lexer": "ipython2",
   "version": "2.7.6"
  }
 },
 "nbformat": 4,
 "nbformat_minor": 5
}
