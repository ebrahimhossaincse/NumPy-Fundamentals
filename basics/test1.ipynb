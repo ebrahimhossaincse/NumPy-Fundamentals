{
 "cells": [
  {
   "cell_type": "code",
   "id": "initial_id",
   "metadata": {
    "collapsed": true,
    "ExecuteTime": {
     "end_time": "2024-09-24T06:11:02.999457Z",
     "start_time": "2024-09-24T06:11:02.994790Z"
    }
   },
   "source": [
    "import numpy as np\n",
    "from holoviews.examples.gallery.apps.bokeh.game_of_life import shapes\n",
    "from numpy import dtype\n",
    "from statsmodels.sandbox.distributions.genpareto import shape\n",
    "\n",
    "print(np.__version__)"
   ],
   "outputs": [
    {
     "name": "stdout",
     "output_type": "stream",
     "text": [
      "1.26.4\n"
     ]
    }
   ],
   "execution_count": 40
  },
  {
   "metadata": {
    "ExecuteTime": {
     "end_time": "2024-09-24T06:11:03.099845Z",
     "start_time": "2024-09-24T06:11:03.093472Z"
    }
   },
   "cell_type": "code",
   "source": [
    "my_np_array = np.array([1, 2, 3])\n",
    "print(my_np_array)\n",
    "print(my_np_array.dtype)\n",
    "print(my_np_array.shape)\n",
    "print(my_np_array.size)\n",
    "print(my_np_array.ndim)"
   ],
   "id": "c08a3517373b86a",
   "outputs": [
    {
     "name": "stdout",
     "output_type": "stream",
     "text": [
      "[1 2 3]\n",
      "int32\n",
      "(3,)\n",
      "3\n",
      "1\n"
     ]
    }
   ],
   "execution_count": 41
  },
  {
   "metadata": {
    "ExecuteTime": {
     "end_time": "2024-09-24T06:11:03.215572Z",
     "start_time": "2024-09-24T06:11:03.210426Z"
    }
   },
   "cell_type": "code",
   "source": [
    "my_np_array2 = np.array([[1, 2, 3],[4,5,6]])\n",
    "print(my_np_array2)\n",
    "print(my_np_array2.dtype)\n",
    "print(my_np_array2.shape)\n",
    "print(my_np_array2.size)\n",
    "print(my_np_array2.ndim)"
   ],
   "id": "a3a6e53000c964fe",
   "outputs": [
    {
     "name": "stdout",
     "output_type": "stream",
     "text": [
      "[[1 2 3]\n",
      " [4 5 6]]\n",
      "int32\n",
      "(2, 3)\n",
      "6\n",
      "2\n"
     ]
    }
   ],
   "execution_count": 42
  },
  {
   "metadata": {
    "ExecuteTime": {
     "end_time": "2024-09-24T06:11:03.320536Z",
     "start_time": "2024-09-24T06:11:03.314585Z"
    }
   },
   "cell_type": "code",
   "source": [
    "np_my_array3=np.array([[1, 2],[4,5],[7,8]])\n",
    "print(np_my_array3)\n",
    "print(np_my_array3.dtype)\n",
    "print(np_my_array3.shape)\n",
    "print(np_my_array3.size)\n",
    "print(np_my_array3.ndim)\n"
   ],
   "id": "376cd4cc9c25f678",
   "outputs": [
    {
     "name": "stdout",
     "output_type": "stream",
     "text": [
      "[[1 2]\n",
      " [4 5]\n",
      " [7 8]]\n",
      "int32\n",
      "(3, 2)\n",
      "6\n",
      "2\n"
     ]
    }
   ],
   "execution_count": 43
  },
  {
   "metadata": {
    "ExecuteTime": {
     "end_time": "2024-09-24T06:11:03.372964Z",
     "start_time": "2024-09-24T06:11:03.366670Z"
    }
   },
   "cell_type": "code",
   "source": [
    "np_my_array4 = np.array([1, 3, 5, 7, 2, 4, 6, 8])\n",
    "#Slice from index 4 to end\n",
    "print(np_my_array4[4:])\n",
    "#Slice beganing to index 4\n",
    "print(np_my_array4[:5])\n",
    "#slice \n",
    "print(np_my_array4[-3:-1])\n",
    "\n",
    "print(np_my_array4[1:5:2])\n",
    "\n",
    "print(np_my_array4[::2])\n",
    "\n",
    "print(np.reshape(np_my_array4,(4,2)))"
   ],
   "id": "4418ec2448d8c674",
   "outputs": [
    {
     "name": "stdout",
     "output_type": "stream",
     "text": [
      "[2 4 6 8]\n",
      "[1 3 5 7 2]\n",
      "[4 6]\n",
      "[3 7]\n",
      "[1 5 2 6]\n",
      "[[1 3]\n",
      " [5 7]\n",
      " [2 4]\n",
      " [6 8]]\n"
     ]
    }
   ],
   "execution_count": 44
  },
  {
   "metadata": {
    "ExecuteTime": {
     "end_time": "2024-09-24T06:11:03.428938Z",
     "start_time": "2024-09-24T06:11:03.424592Z"
    }
   },
   "cell_type": "code",
   "source": [
    "#Zeros shape\n",
    "zeros_np_array = np.zeros(\n",
    "    shape=(5,)\n",
    ")\n",
    "print(zeros_np_array)"
   ],
   "id": "97887ce58c4a1042",
   "outputs": [
    {
     "name": "stdout",
     "output_type": "stream",
     "text": [
      "[0. 0. 0. 0. 0.]\n"
     ]
    }
   ],
   "execution_count": 45
  },
  {
   "metadata": {
    "ExecuteTime": {
     "end_time": "2024-09-24T06:11:03.481067Z",
     "start_time": "2024-09-24T06:11:03.476815Z"
    }
   },
   "cell_type": "code",
   "source": [
    "ones_np_array = np.ones(\n",
    "    shape=(5,)\n",
    ")\n",
    "print(ones_np_array)"
   ],
   "id": "8842ed5c550a7dde",
   "outputs": [
    {
     "name": "stdout",
     "output_type": "stream",
     "text": [
      "[1. 1. 1. 1. 1.]\n"
     ]
    }
   ],
   "execution_count": 46
  },
  {
   "metadata": {
    "ExecuteTime": {
     "end_time": "2024-09-24T06:11:03.516154Z",
     "start_time": "2024-09-24T06:11:03.511859Z"
    }
   },
   "cell_type": "code",
   "source": [
    "assigned_with_specific_array = np.full(\n",
    "    shape = (10,),\n",
    "    fill_value = 20\n",
    ")\n",
    "print(assigned_with_specific_array)"
   ],
   "id": "b6407a4b9c6a194a",
   "outputs": [
    {
     "name": "stdout",
     "output_type": "stream",
     "text": [
      "[20 20 20 20 20 20 20 20 20 20]\n"
     ]
    }
   ],
   "execution_count": 47
  },
  {
   "metadata": {
    "ExecuteTime": {
     "end_time": "2024-09-24T06:15:09.576210Z",
     "start_time": "2024-09-24T06:15:09.570432Z"
    }
   },
   "cell_type": "code",
   "source": [
    "identity_matrix = np.eye(\n",
    "    4,\n",
    "    dtype = int\n",
    ")\n",
    "print(identity_matrix.tolist())"
   ],
   "id": "9f89c6589eb30f2d",
   "outputs": [
    {
     "name": "stdout",
     "output_type": "stream",
     "text": [
      "[[1, 0, 0, 0], [0, 1, 0, 0], [0, 0, 1, 0], [0, 0, 0, 1]]\n"
     ]
    }
   ],
   "execution_count": 54
  },
  {
   "metadata": {
    "ExecuteTime": {
     "end_time": "2024-09-24T06:11:03.588327Z",
     "start_time": "2024-09-24T06:11:03.583470Z"
    }
   },
   "cell_type": "code",
   "source": [
    "my_empty_array = np.empty(\n",
    "    shape = (5,)\n",
    ")\n",
    "print(my_empty_array)"
   ],
   "id": "8d50c9d133c540cf",
   "outputs": [
    {
     "name": "stdout",
     "output_type": "stream",
     "text": [
      "[0. 0. 0. 0. 0.]\n"
     ]
    }
   ],
   "execution_count": 49
  },
  {
   "metadata": {
    "ExecuteTime": {
     "end_time": "2024-09-24T06:11:03.623932Z",
     "start_time": "2024-09-24T06:11:03.619582Z"
    }
   },
   "cell_type": "code",
   "source": [
    "my_empty_array_int = my_empty_array.astype('int')\n",
    "print(my_empty_array_int)\n",
    "print(my_empty_array_int.dtype)\n"
   ],
   "id": "b482108a15f85e48",
   "outputs": [
    {
     "name": "stdout",
     "output_type": "stream",
     "text": [
      "[0 0 0 0 0]\n",
      "int32\n"
     ]
    }
   ],
   "execution_count": 50
  },
  {
   "metadata": {
    "ExecuteTime": {
     "end_time": "2024-09-24T06:11:03.674581Z",
     "start_time": "2024-09-24T06:11:03.670707Z"
    }
   },
   "cell_type": "code",
   "source": [
    "np_2d_array = np.ones(\n",
    "    shape = (10,4),\n",
    "    dtype = int\n",
    ")\n",
    "print(np_2d_array)\n",
    "print(np_2d_array.ndim)"
   ],
   "id": "8882b6c57ed403cc",
   "outputs": [
    {
     "name": "stdout",
     "output_type": "stream",
     "text": [
      "[[1 1 1 1]\n",
      " [1 1 1 1]\n",
      " [1 1 1 1]\n",
      " [1 1 1 1]\n",
      " [1 1 1 1]\n",
      " [1 1 1 1]\n",
      " [1 1 1 1]\n",
      " [1 1 1 1]\n",
      " [1 1 1 1]\n",
      " [1 1 1 1]]\n",
      "2\n"
     ]
    }
   ],
   "execution_count": 51
  },
  {
   "metadata": {
    "ExecuteTime": {
     "end_time": "2024-09-24T06:12:30.241954Z",
     "start_time": "2024-09-24T06:12:30.235700Z"
    }
   },
   "cell_type": "code",
   "source": [
    "my_np_1d_array = np.array([1, 2, 3,4,5,6])\n",
    "print(my_np_1d_array[2])\n",
    "print(my_np_1d_array[-4])"
   ],
   "id": "9629f4fed2403e66",
   "outputs": [
    {
     "name": "stdout",
     "output_type": "stream",
     "text": [
      "3\n",
      "3\n"
     ]
    }
   ],
   "execution_count": 53
  },
  {
   "metadata": {
    "ExecuteTime": {
     "end_time": "2024-09-24T06:19:57.149904Z",
     "start_time": "2024-09-24T06:19:57.144138Z"
    }
   },
   "cell_type": "code",
   "source": [
    "np_2d_array = np.array(\n",
    "    [\n",
    "        [1, 2, 3, 4], \n",
    "        [5, 6, 7, 8], \n",
    "        [9, 10, 11, 12], \n",
    "        [11, 14, 15, 16]\n",
    "     ]\n",
    ")\n",
    "np_2d_array\n",
    "# print(np_2d_array)\n",
    "\n",
    "print(np_2d_array[1:4, 1:3])"
   ],
   "id": "c1962e70558062c0",
   "outputs": [
    {
     "name": "stdout",
     "output_type": "stream",
     "text": [
      "[[ 6  7]\n",
      " [10 11]\n",
      " [14 15]]\n"
     ]
    }
   ],
   "execution_count": 60
  },
  {
   "metadata": {
    "ExecuteTime": {
     "end_time": "2024-09-24T06:11:03.808223Z",
     "start_time": "2024-09-24T06:11:03.804674Z"
    }
   },
   "cell_type": "code",
   "source": [
    "#Type Casting\n",
    "#Using astype() method\n",
    "\n",
    "\n"
   ],
   "id": "2df22e0d6536ab85",
   "outputs": [],
   "execution_count": 52
  }
 ],
 "metadata": {
  "kernelspec": {
   "display_name": "Python 3",
   "language": "python",
   "name": "python3"
  },
  "language_info": {
   "codemirror_mode": {
    "name": "ipython",
    "version": 2
   },
   "file_extension": ".py",
   "mimetype": "text/x-python",
   "name": "python",
   "nbconvert_exporter": "python",
   "pygments_lexer": "ipython2",
   "version": "2.7.6"
  }
 },
 "nbformat": 4,
 "nbformat_minor": 5
}
