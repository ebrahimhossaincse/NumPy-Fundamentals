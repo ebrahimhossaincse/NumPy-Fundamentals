{
 "cells": [
  {
   "cell_type": "code",
   "id": "initial_id",
   "metadata": {
    "collapsed": true,
    "ExecuteTime": {
     "end_time": "2024-09-26T05:45:17.220890Z",
     "start_time": "2024-09-26T05:45:16.868963Z"
    }
   },
   "source": "import numpy as np",
   "outputs": [],
   "execution_count": 1
  },
  {
   "metadata": {
    "ExecuteTime": {
     "end_time": "2024-09-26T05:45:17.285217Z",
     "start_time": "2024-09-26T05:45:17.266312Z"
    }
   },
   "cell_type": "code",
   "source": [
    "# Filter elements greater than a value\n",
    "\n",
    "arr = np.array(\n",
    "    [1, 12, 13, 4, 5, 6, 7, 8, 9, 10, 2, 3]\n",
    ")\n",
    "\n",
    "# Filter elements greater than 5\n",
    "filtered_arr = arr[arr > 5]\n",
    "\n",
    "print('Filter elements greater than 5: ',filtered_arr)"
   ],
   "id": "3af920c93042f997",
   "outputs": [
    {
     "name": "stdout",
     "output_type": "stream",
     "text": [
      "Filter elements greater than 5:  [12 13  6  7  8  9 10]\n"
     ]
    }
   ],
   "execution_count": 2
  },
  {
   "metadata": {
    "ExecuteTime": {
     "end_time": "2024-09-26T05:45:18.347045Z",
     "start_time": "2024-09-26T05:45:18.337040Z"
    }
   },
   "cell_type": "code",
   "source": [
    "#Filter elements that satisfy multiple conditions\n",
    "arr = np.array(\n",
    "    [1, 12, 13, 4, 5, 6, 7, 8, 9, 10, 2, 3]\n",
    ")\n",
    "filtered_arr = arr[(arr > 5) & (arr < 9)]\n",
    "print('Filter elements that satisfy multiple conditions: ',filtered_arr)"
   ],
   "id": "d11d4d99d7536041",
   "outputs": [
    {
     "name": "stdout",
     "output_type": "stream",
     "text": [
      "Filter elements that satisfy multiple conditions:  [6 7 8]\n"
     ]
    }
   ],
   "execution_count": 3
  },
  {
   "metadata": {
    "ExecuteTime": {
     "end_time": "2024-09-26T05:45:18.492900Z",
     "start_time": "2024-09-26T05:45:18.482708Z"
    }
   },
   "cell_type": "code",
   "source": [
    "#Filtering based on a condition using another array\n",
    "arr = np.array([1, 12, 13, 4, 45, 6, 7, 8, 9, 10])  # 10 elements\n",
    "arr2 = np.array([10, 20, 30, 40, 50, 60, 70, 80, 90, 100])  # 10 elements\n",
    "\n",
    "# Filter elements in arr2 where corresponding elements in arr are greater than 5\n",
    "filtered_arr2 = arr2[arr > 5]\n",
    "print(filtered_arr2)"
   ],
   "id": "fcdfed5bdf41aebd",
   "outputs": [
    {
     "name": "stdout",
     "output_type": "stream",
     "text": [
      "[ 20  30  50  60  70  80  90 100]\n"
     ]
    }
   ],
   "execution_count": 4
  },
  {
   "metadata": {
    "ExecuteTime": {
     "end_time": "2024-09-26T05:45:18.760705Z",
     "start_time": "2024-09-26T05:45:18.751095Z"
    }
   },
   "cell_type": "code",
   "source": [
    "arr = np.array(\n",
    "    [41, 42, 43, 44]\n",
    ")\n",
    "\n",
    "# Create an empty list\n",
    "filter_arr = []\n",
    "\n",
    "# go through each element in arr\n",
    "for element in arr:\n",
    "  if element > 42:\n",
    "    filter_arr.append(True)\n",
    "  else:\n",
    "    filter_arr.append(False)\n",
    "\n",
    "newarr = arr[filter_arr]\n",
    "\n",
    "print(filter_arr)\n",
    "print(newarr)"
   ],
   "id": "f15222300e595c1",
   "outputs": [
    {
     "name": "stdout",
     "output_type": "stream",
     "text": [
      "[False, False, True, True]\n",
      "[43 44]\n"
     ]
    }
   ],
   "execution_count": 5
  },
  {
   "metadata": {
    "ExecuteTime": {
     "end_time": "2024-09-26T05:45:18.902653Z",
     "start_time": "2024-09-26T05:45:18.893302Z"
    }
   },
   "cell_type": "code",
   "source": [
    "arr = np.array([1, 2, 3, 4, 5, 6, 7])\n",
    "filter_arr = []\n",
    "\n",
    "for element in arr:\n",
    "  if element % 2 == 0:\n",
    "    filter_arr.append(True)\n",
    "  else:\n",
    "    filter_arr.append(False)\n",
    "\n",
    "newarr = arr[filter_arr]\n",
    "\n",
    "print(filter_arr)\n",
    "print(newarr)"
   ],
   "id": "5bcabf0d0573efc5",
   "outputs": [
    {
     "name": "stdout",
     "output_type": "stream",
     "text": [
      "[False, True, False, True, False, True, False]\n",
      "[2 4 6]\n"
     ]
    }
   ],
   "execution_count": 6
  },
  {
   "metadata": {
    "ExecuteTime": {
     "end_time": "2024-09-26T05:49:05.297380Z",
     "start_time": "2024-09-26T05:49:05.292511Z"
    }
   },
   "cell_type": "code",
   "source": [
    "#Boolean Mask\n",
    "arr = np.array([1, 2, 3, 4, 5, 6, 7])\n",
    "filter_mask = [False, True, False, True, False, True, False]\n",
    "newarr = arr[filter_mask]\n",
    "print(newarr)"
   ],
   "id": "43fa26991702a8d7",
   "outputs": [
    {
     "name": "stdout",
     "output_type": "stream",
     "text": [
      "[2 4 6]\n"
     ]
    }
   ],
   "execution_count": 7
  },
  {
   "metadata": {
    "ExecuteTime": {
     "end_time": "2024-09-26T05:51:07.612576Z",
     "start_time": "2024-09-26T05:51:07.606156Z"
    }
   },
   "cell_type": "code",
   "source": [
    "#Conditionals\n",
    "arr = np.array([1, 2, 3, 4, 5, 6, 7])\n",
    "filter_mask = arr % 2 == 1\n",
    "print(filter_mask)\n",
    "newarr = arr[filter_mask]\n",
    "print(newarr)"
   ],
   "id": "fd16daa801fd8be0",
   "outputs": [
    {
     "name": "stdout",
     "output_type": "stream",
     "text": [
      "[ True False  True False  True False  True]\n",
      "[1 3 5 7]\n"
     ]
    }
   ],
   "execution_count": 9
  },
  {
   "metadata": {
    "ExecuteTime": {
     "end_time": "2024-09-26T05:52:46.705184Z",
     "start_time": "2024-09-26T05:52:46.700656Z"
    }
   },
   "cell_type": "code",
   "source": [
    "#Indices\n",
    "indices=[0,2,4]\n",
    "arr = np.array([1, 2, 3, 4, 5, 6, 7])\n",
    "newarr = arr[indices]\n",
    "print(newarr)"
   ],
   "id": "1adcf835de02e62b",
   "outputs": [
    {
     "name": "stdout",
     "output_type": "stream",
     "text": [
      "[1 3 5]\n"
     ]
    }
   ],
   "execution_count": 11
  },
  {
   "metadata": {
    "ExecuteTime": {
     "end_time": "2024-09-26T05:53:56.987882Z",
     "start_time": "2024-09-26T05:53:56.982245Z"
    }
   },
   "cell_type": "code",
   "source": [
    "#Indices\n",
    "arr = np.array([1, 2, 3, 4, 5, 6, 7])\n",
    "indices = np.where(arr%2==1)\n",
    "newarr = arr[indices]\n",
    "print(newarr)"
   ],
   "id": "f00d3e6fc3d7737b",
   "outputs": [
    {
     "name": "stdout",
     "output_type": "stream",
     "text": [
      "[1 3 5 7]\n"
     ]
    }
   ],
   "execution_count": 12
  },
  {
   "metadata": {
    "ExecuteTime": {
     "end_time": "2024-09-26T05:57:57.147109Z",
     "start_time": "2024-09-26T05:57:57.141711Z"
    }
   },
   "cell_type": "code",
   "source": [
    "#Using custom filter method\n",
    "def my_custom_filter(x):\n",
    "    if x % 2 == 0:\n",
    "        return True\n",
    "    else:\n",
    "        return False\n",
    "\n",
    "arr = np.array([1, 2, 3, 4, 5, 6, 7])\n",
    "filtered_arr = filter(my_custom_filter, arr)\n",
    "print(np.array(list(filter_arr)))"
   ],
   "id": "627f20c5115a170e",
   "outputs": [
    {
     "name": "stdout",
     "output_type": "stream",
     "text": [
      "[False  True False  True False  True False]\n"
     ]
    }
   ],
   "execution_count": 14
  }
 ],
 "metadata": {
  "kernelspec": {
   "display_name": "Python 3",
   "language": "python",
   "name": "python3"
  },
  "language_info": {
   "codemirror_mode": {
    "name": "ipython",
    "version": 2
   },
   "file_extension": ".py",
   "mimetype": "text/x-python",
   "name": "python",
   "nbconvert_exporter": "python",
   "pygments_lexer": "ipython2",
   "version": "2.7.6"
  }
 },
 "nbformat": 4,
 "nbformat_minor": 5
}
