{
 "cells": [
  {
   "cell_type": "code",
   "id": "initial_id",
   "metadata": {
    "collapsed": true,
    "ExecuteTime": {
     "end_time": "2024-09-26T06:42:36.340761Z",
     "start_time": "2024-09-26T06:42:36.228370Z"
    }
   },
   "source": "import numpy as np",
   "outputs": [],
   "execution_count": 1
  },
  {
   "metadata": {
    "ExecuteTime": {
     "end_time": "2024-09-26T06:58:05.306567Z",
     "start_time": "2024-09-26T06:58:05.300368Z"
    }
   },
   "cell_type": "code",
   "source": [
    "\"\"\"Iterating Over a 1D Array\"\"\"\n",
    "\n",
    "# Define a 1D array\n",
    "arr_1d = np.array([10, 20, 30, 40, 50])\n",
    "\n",
    "print(\"Iterating over a 1D array:\")\n",
    "for value in arr_1d:\n",
    "    print(value)"
   ],
   "id": "6016c1f334b5e6f1",
   "outputs": [
    {
     "name": "stdout",
     "output_type": "stream",
     "text": [
      "Iterating over a 1D array:\n",
      "10\n",
      "20\n",
      "30\n",
      "40\n",
      "50\n"
     ]
    }
   ],
   "execution_count": 2
  },
  {
   "metadata": {
    "ExecuteTime": {
     "end_time": "2024-09-26T06:58:46.773312Z",
     "start_time": "2024-09-26T06:58:46.768253Z"
    }
   },
   "cell_type": "code",
   "source": [
    "\"\"\"Iterating Over a 2D Array (Row-wise)\"\"\"\n",
    "# Define a 2D array\n",
    "arr_2d = np.array([[1, 2, 3], [4, 5, 6], [7, 8, 9]])\n",
    "\n",
    "print(\"\\nIterating over a 2D array (row-wise):\")\n",
    "for row in arr_2d:\n",
    "    print(row)"
   ],
   "id": "f90359fc541d5d5e",
   "outputs": [
    {
     "name": "stdout",
     "output_type": "stream",
     "text": [
      "\n",
      "Iterating over a 2D array (row-wise):\n",
      "[1 2 3]\n",
      "[4 5 6]\n",
      "[7 8 9]\n"
     ]
    }
   ],
   "execution_count": 3
  },
  {
   "metadata": {
    "ExecuteTime": {
     "end_time": "2024-09-26T06:59:57.050797Z",
     "start_time": "2024-09-26T06:59:57.045317Z"
    }
   },
   "cell_type": "code",
   "source": [
    "\"\"\"Iterating Over a 2D Array (Element-wise)\"\"\"\n",
    "# Define a 2D array\n",
    "arr_2d = np.array([[1, 2, 3], [4, 5, 6], [7, 8, 9]])\n",
    "\n",
    "print(\"\\nIterating over a 2D array (element-wise):\")\n",
    "for row in arr_2d:\n",
    "    for element in row:\n",
    "        print(element)"
   ],
   "id": "806f227f2e3b7978",
   "outputs": [
    {
     "name": "stdout",
     "output_type": "stream",
     "text": [
      "\n",
      "Iterating over a 2D array (element-wise):\n",
      "1\n",
      "2\n",
      "3\n",
      "4\n",
      "5\n",
      "6\n",
      "7\n",
      "8\n",
      "9\n"
     ]
    }
   ],
   "execution_count": 4
  },
  {
   "metadata": {
    "ExecuteTime": {
     "end_time": "2024-09-26T07:00:55.730768Z",
     "start_time": "2024-09-26T07:00:55.715293Z"
    }
   },
   "cell_type": "code",
   "source": [
    "\"\"\"Iterating Over a 2D Array Using np.nditer\"\"\"\n",
    "# Define a 2D array\n",
    "arr_2d = np.array([[1, 2, 3], [4, 5, 6], [7, 8, 9]])\n",
    "print(\"\\nIterating over a 2D array using np.nditer:\")\n",
    "for element in np.nditer(arr_2d):\n",
    "    print(element)"
   ],
   "id": "7952549b3c7e420c",
   "outputs": [
    {
     "name": "stdout",
     "output_type": "stream",
     "text": [
      "\n",
      "Iterating over a 2D array using np.nditer:\n",
      "1\n",
      "2\n",
      "3\n",
      "4\n",
      "5\n",
      "6\n",
      "7\n",
      "8\n",
      "9\n"
     ]
    }
   ],
   "execution_count": 5
  },
  {
   "metadata": {
    "ExecuteTime": {
     "end_time": "2024-09-26T07:02:10.334273Z",
     "start_time": "2024-09-26T07:02:10.327530Z"
    }
   },
   "cell_type": "code",
   "source": [
    "\"\"\"Iterating with Indices\"\"\"\n",
    "\n",
    "# Define a 1D array\n",
    "arr_1d = np.array([10, 20, 30, 40, 50])\n",
    "\n",
    "print(\"\\nIterating with indices:\")\n",
    "for index, value in enumerate(arr_1d):\n",
    "    print(f\"Index {index}: Value {value}\")"
   ],
   "id": "21fb42d23520dfd4",
   "outputs": [
    {
     "name": "stdout",
     "output_type": "stream",
     "text": [
      "\n",
      "Iterating with indices:\n",
      "Index 0: Value 10\n",
      "Index 1: Value 20\n",
      "Index 2: Value 30\n",
      "Index 3: Value 40\n",
      "Index 4: Value 50\n"
     ]
    }
   ],
   "execution_count": 6
  },
  {
   "metadata": {
    "ExecuteTime": {
     "end_time": "2024-09-26T07:03:46.452575Z",
     "start_time": "2024-09-26T07:03:46.446330Z"
    }
   },
   "cell_type": "code",
   "source": [
    "\"\"\" Iterating Over a 2D Array Using np.ndenumerate\"\"\"\n",
    "arr_2d = np.array([[1, 2, 3], [4, 5, 6], [7, 8, 9]])\n",
    "print(\"\\nIterating over a 2D array using np.ndenumerate:\")\n",
    "for index, value in np.ndenumerate(arr_2d):\n",
    "    print(f\"Index {index}: Value {value}\")\n",
    "    "
   ],
   "id": "1e040a2ca7873e9f",
   "outputs": [
    {
     "name": "stdout",
     "output_type": "stream",
     "text": [
      "\n",
      "Iterating over a 2D array using np.ndenumerate:\n",
      "Index (0, 0): Value 1\n",
      "Index (0, 1): Value 2\n",
      "Index (0, 2): Value 3\n",
      "Index (1, 0): Value 4\n",
      "Index (1, 1): Value 5\n",
      "Index (1, 2): Value 6\n",
      "Index (2, 0): Value 7\n",
      "Index (2, 1): Value 8\n",
      "Index (2, 2): Value 9\n"
     ]
    }
   ],
   "execution_count": 7
  },
  {
   "metadata": {
    "ExecuteTime": {
     "end_time": "2024-09-26T07:05:10.403106Z",
     "start_time": "2024-09-26T07:05:10.395936Z"
    }
   },
   "cell_type": "code",
   "source": [
    "\"\"\"Iterating Over a 3D Array\"\"\"\n",
    "arr_3d = np.array([[1, 2, 3], [4, 5, 6], [7, 8, 9]])\n",
    "print(\"\\nIterating over a 3D array using np.ndenumerate:\")\n",
    "for arr_2d in arr_3d:\n",
    "    for row in arr_2d:\n",
    "        print(row)\n",
    "    \n"
   ],
   "id": "3ec0657601365985",
   "outputs": [
    {
     "name": "stdout",
     "output_type": "stream",
     "text": [
      "\n",
      "Iterating over a 3D array using np.ndenumerate:\n",
      "1\n",
      "2\n",
      "3\n",
      "4\n",
      "5\n",
      "6\n",
      "7\n",
      "8\n",
      "9\n"
     ]
    }
   ],
   "execution_count": 8
  },
  {
   "metadata": {
    "ExecuteTime": {
     "end_time": "2024-09-26T07:05:47.944244Z",
     "start_time": "2024-09-26T07:05:47.938098Z"
    }
   },
   "cell_type": "code",
   "source": [
    "\"\"\"Using List Comprehensions for Iteration\"\"\"\n",
    "# Define a 1D array\n",
    "arr_1d = np.array([1, 2, 3, 4, 5])\n",
    "\n",
    "# Create a new array with squared values\n",
    "squared_values = np.array([x**2 for x in arr_1d])\n",
    "\n",
    "print(\"\\nSquared values using list comprehension:\")\n",
    "print(squared_values)"
   ],
   "id": "1f14dd4f31667219",
   "outputs": [
    {
     "name": "stdout",
     "output_type": "stream",
     "text": [
      "\n",
      "Squared values using list comprehension:\n",
      "[ 1  4  9 16 25]\n"
     ]
    }
   ],
   "execution_count": 9
  }
 ],
 "metadata": {
  "kernelspec": {
   "display_name": "Python 3",
   "language": "python",
   "name": "python3"
  },
  "language_info": {
   "codemirror_mode": {
    "name": "ipython",
    "version": 2
   },
   "file_extension": ".py",
   "mimetype": "text/x-python",
   "name": "python",
   "nbconvert_exporter": "python",
   "pygments_lexer": "ipython2",
   "version": "2.7.6"
  }
 },
 "nbformat": 4,
 "nbformat_minor": 5
}
