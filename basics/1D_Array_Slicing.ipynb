{
 "cells": [
  {
   "cell_type": "code",
   "id": "initial_id",
   "metadata": {
    "collapsed": true,
    "ExecuteTime": {
     "end_time": "2024-09-23T06:25:27.700217Z",
     "start_time": "2024-09-23T06:25:27.693941Z"
    }
   },
   "source": [
    "import numpy as np\n",
    "\n",
    "np_array = np.array([1, 2, 3, 4, 5, 6, 7, 8, 9, 10, 11, 12, 13, 14, 15, 16, 17, 18, 19, 20, 21, 22, 23, 24, 25, 26, 27, 28, 29, 30, 31, 32, 33, 34, 35, 36, 37, 38, 39, 40, 41, 42, 43, 44, 45, 46, 47, 48, 49, 50])\n",
    "print(np_array)"
   ],
   "outputs": [
    {
     "name": "stdout",
     "output_type": "stream",
     "text": [
      "[ 1  2  3  4  5  6  7  8  9 10 11 12 13 14 15 16 17 18 19 20 21 22 23 24\n",
      " 25 26 27 28 29 30 31 32 33 34 35 36 37 38 39 40 41 42 43 44 45 46 47 48\n",
      " 49 50]\n"
     ]
    }
   ],
   "execution_count": 23
  },
  {
   "metadata": {
    "ExecuteTime": {
     "end_time": "2024-09-23T06:25:27.803850Z",
     "start_time": "2024-09-23T06:25:27.799862Z"
    }
   },
   "cell_type": "code",
   "source": [
    "#Slice elements from index 1 to index 5 (exclusive of 5)\n",
    "print('Slice elements from index 1 to index 5 (exclusive of 5): ',np_array[1:5])"
   ],
   "id": "dceefe63a91b5ced",
   "outputs": [
    {
     "name": "stdout",
     "output_type": "stream",
     "text": [
      "Slice elements from index 1 to index 5 (exclusive of 5):  [2 3 4 5]\n"
     ]
    }
   ],
   "execution_count": 24
  },
  {
   "metadata": {
    "ExecuteTime": {
     "end_time": "2024-09-23T06:25:27.895181Z",
     "start_time": "2024-09-23T06:25:27.890707Z"
    }
   },
   "cell_type": "code",
   "source": [
    "#Slice from the beginning to index 10\n",
    "print('Slice from the beginning to index 10: ', np_array[:10])"
   ],
   "id": "43f3a6eaee6ca93a",
   "outputs": [
    {
     "name": "stdout",
     "output_type": "stream",
     "text": [
      "Slice from the beginning to index 10:  [ 1  2  3  4  5  6  7  8  9 10]\n"
     ]
    }
   ],
   "execution_count": 25
  },
  {
   "metadata": {
    "ExecuteTime": {
     "end_time": "2024-09-23T06:25:27.988719Z",
     "start_time": "2024-09-23T06:25:27.983717Z"
    }
   },
   "cell_type": "code",
   "source": [
    "#Slice from index 11 to the end\n",
    "print('Slice from index 3 to the end: ', np_array[10:])"
   ],
   "id": "ec6f6a4a7fd08b61",
   "outputs": [
    {
     "name": "stdout",
     "output_type": "stream",
     "text": [
      "Slice from index 3 to the end:  [11 12 13 14 15 16 17 18 19 20 21 22 23 24 25 26 27 28 29 30 31 32 33 34\n",
      " 35 36 37 38 39 40 41 42 43 44 45 46 47 48 49 50]\n"
     ]
    }
   ],
   "execution_count": 26
  },
  {
   "metadata": {
    "ExecuteTime": {
     "end_time": "2024-09-23T06:25:28.022591Z",
     "start_time": "2024-09-23T06:25:28.017813Z"
    }
   },
   "cell_type": "code",
   "source": [
    "#Slice every second element\n",
    "print('Slice every second element: ', np_array[::2])"
   ],
   "id": "8c95808fca914f57",
   "outputs": [
    {
     "name": "stdout",
     "output_type": "stream",
     "text": [
      "Slice every second element:  [ 1  3  5  7  9 11 13 15 17 19 21 23 25 27 29 31 33 35 37 39 41 43 45 47\n",
      " 49]\n"
     ]
    }
   ],
   "execution_count": 27
  },
  {
   "metadata": {
    "ExecuteTime": {
     "end_time": "2024-09-23T06:25:28.055646Z",
     "start_time": "2024-09-23T06:25:28.051492Z"
    }
   },
   "cell_type": "code",
   "source": [
    "#Slice from index 1 to 20 with a step of 4\n",
    "print('Slice from index 1 to 20 with a step of 4: ', np_array[1:20:4])"
   ],
   "id": "20d07e498570262a",
   "outputs": [
    {
     "name": "stdout",
     "output_type": "stream",
     "text": [
      "Slice from index 1 to 20 with a step of 4:  [ 2  6 10 14 18]\n"
     ]
    }
   ],
   "execution_count": 28
  },
  {
   "metadata": {
    "ExecuteTime": {
     "end_time": "2024-09-23T06:25:28.095510Z",
     "start_time": "2024-09-23T06:25:28.091461Z"
    }
   },
   "cell_type": "code",
   "source": [
    "#Reverse the array\n",
    "print('Reverse the array: ', np_array[::-1])"
   ],
   "id": "78ad91de22da71f2",
   "outputs": [
    {
     "name": "stdout",
     "output_type": "stream",
     "text": [
      "Reverse the array:  [50 49 48 47 46 45 44 43 42 41 40 39 38 37 36 35 34 33 32 31 30 29 28 27\n",
      " 26 25 24 23 22 21 20 19 18 17 16 15 14 13 12 11 10  9  8  7  6  5  4  3\n",
      "  2  1]\n"
     ]
    }
   ],
   "execution_count": 29
  },
  {
   "metadata": {
    "ExecuteTime": {
     "end_time": "2024-09-23T06:26:17.025720Z",
     "start_time": "2024-09-23T06:26:17.021932Z"
    }
   },
   "cell_type": "code",
   "source": [
    "#Slice the last 3 elements\n",
    "print('Slice the last 3 elements: ', np_array[-3:])"
   ],
   "id": "8f3d54b207acbfb6",
   "outputs": [
    {
     "name": "stdout",
     "output_type": "stream",
     "text": [
      "Slice the last 3 elements:  [48 49 50]\n"
     ]
    }
   ],
   "execution_count": 30
  },
  {
   "metadata": {
    "ExecuteTime": {
     "end_time": "2024-09-23T06:27:38.614545Z",
     "start_time": "2024-09-23T06:27:38.610039Z"
    }
   },
   "cell_type": "code",
   "source": [
    "#Slice everything except the last 10 elements\n",
    "print('Slice everything except the last 3 elements', np_array[:-10])"
   ],
   "id": "6fe9801f442df815",
   "outputs": [
    {
     "name": "stdout",
     "output_type": "stream",
     "text": [
      "Slice everything except the last 3 elements [ 1  2  3  4  5  6  7  8  9 10 11 12 13 14 15 16 17 18 19 20 21 22 23 24\n",
      " 25 26 27 28 29 30 31 32 33 34 35 36 37 38 39 40]\n"
     ]
    }
   ],
   "execution_count": 32
  },
  {
   "metadata": {
    "ExecuteTime": {
     "end_time": "2024-09-23T06:28:23.023529Z",
     "start_time": "2024-09-23T06:28:23.018110Z"
    }
   },
   "cell_type": "code",
   "source": [
    "#Slice elements between -5 and -2\n",
    "#[start: -(n-1): end]\n",
    "print('Slice elements between -5 and -2: ', np_array[-5:-2])"
   ],
   "id": "b537c17be85a133c",
   "outputs": [
    {
     "name": "stdout",
     "output_type": "stream",
     "text": [
      "Slice elements between -5 and -2:  [46 47 48]\n"
     ]
    }
   ],
   "execution_count": 33
  }
 ],
 "metadata": {
  "kernelspec": {
   "display_name": "Python 3",
   "language": "python",
   "name": "python3"
  },
  "language_info": {
   "codemirror_mode": {
    "name": "ipython",
    "version": 2
   },
   "file_extension": ".py",
   "mimetype": "text/x-python",
   "name": "python",
   "nbconvert_exporter": "python",
   "pygments_lexer": "ipython2",
   "version": "2.7.6"
  }
 },
 "nbformat": 4,
 "nbformat_minor": 5
}
