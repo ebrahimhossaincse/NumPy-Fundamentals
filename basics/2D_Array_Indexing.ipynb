{
 "cells": [
  {
   "cell_type": "code",
   "id": "initial_id",
   "metadata": {
    "collapsed": true,
    "ExecuteTime": {
     "end_time": "2024-09-26T08:55:33.630826Z",
     "start_time": "2024-09-26T08:55:33.511433Z"
    }
   },
   "source": [
    "import numpy as np\n",
    "\n",
    "np_2d_array = np.array([[1, 2, 3, 4, 5, 6, 7, 8, 9, 10, 11, 12, 13, 14, 15, 16, 17, 18, 19, 20, 21, 22, 23, 24, 25], [26, 27, 28, 29, 30, 31, 32, 33, 34, 35, 36, 37, 38, 39, 40, 41, 42, 43, 44, 45, 46, 47, 48, 49, 50]])\n",
    "print(np_2d_array)"
   ],
   "outputs": [
    {
     "name": "stdout",
     "output_type": "stream",
     "text": [
      "[[ 1  2  3  4  5  6  7  8  9 10 11 12 13 14 15 16 17 18 19 20 21 22 23 24\n",
      "  25]\n",
      " [26 27 28 29 30 31 32 33 34 35 36 37 38 39 40 41 42 43 44 45 46 47 48 49\n",
      "  50]]\n"
     ]
    }
   ],
   "execution_count": 1
  },
  {
   "metadata": {
    "ExecuteTime": {
     "end_time": "2024-09-26T08:55:33.641690Z",
     "start_time": "2024-09-26T08:55:33.637833Z"
    }
   },
   "cell_type": "code",
   "source": [
    "#Access the element in the first row and second column\n",
    "print('Access the element in the first row and second column: ', np_2d_array[0,1])"
   ],
   "id": "2e345244e778d506",
   "outputs": [
    {
     "name": "stdout",
     "output_type": "stream",
     "text": [
      "Access the element in the first row and second column:  2\n"
     ]
    }
   ],
   "execution_count": 2
  },
  {
   "metadata": {
    "ExecuteTime": {
     "end_time": "2024-09-26T08:55:33.703682Z",
     "start_time": "2024-09-26T08:55:33.700289Z"
    }
   },
   "cell_type": "code",
   "source": [
    "#Access the value of First row\n",
    "print('Access the value of First row: ',np_2d_array[0, :])"
   ],
   "id": "68999571ffd8a974",
   "outputs": [
    {
     "name": "stdout",
     "output_type": "stream",
     "text": [
      "Access the value of First row:  [ 1  2  3  4  5  6  7  8  9 10 11 12 13 14 15 16 17 18 19 20 21 22 23 24\n",
      " 25]\n"
     ]
    }
   ],
   "execution_count": 3
  },
  {
   "metadata": {
    "ExecuteTime": {
     "end_time": "2024-09-26T08:55:33.715877Z",
     "start_time": "2024-09-26T08:55:33.712154Z"
    }
   },
   "cell_type": "code",
   "source": [
    "#Access the value of Second row\n",
    "print('Access the value of Second row: ',np_2d_array[1, :])"
   ],
   "id": "dfdcbdc8ebf285c8",
   "outputs": [
    {
     "name": "stdout",
     "output_type": "stream",
     "text": [
      "Access the value of Second row:  [26 27 28 29 30 31 32 33 34 35 36 37 38 39 40 41 42 43 44 45 46 47 48 49\n",
      " 50]\n"
     ]
    }
   ],
   "execution_count": 4
  },
  {
   "metadata": {
    "ExecuteTime": {
     "end_time": "2024-09-26T08:55:33.744066Z",
     "start_time": "2024-09-26T08:55:33.739043Z"
    }
   },
   "cell_type": "code",
   "source": [
    "#Access the value of First column\n",
    "print('Access the value of First column: ',np_2d_array[:, 0])"
   ],
   "id": "5022506dd31d8e6e",
   "outputs": [
    {
     "name": "stdout",
     "output_type": "stream",
     "text": [
      "Access the value of First column:  [ 1 26]\n"
     ]
    }
   ],
   "execution_count": 5
  },
  {
   "metadata": {
    "ExecuteTime": {
     "end_time": "2024-09-26T08:55:33.756303Z",
     "start_time": "2024-09-26T08:55:33.751722Z"
    }
   },
   "cell_type": "code",
   "source": [
    "#Access the value of last column\n",
    "print('Access the value of Last column: ',np_2d_array[:, 24])"
   ],
   "id": "51b1a8a29b8cf991",
   "outputs": [
    {
     "name": "stdout",
     "output_type": "stream",
     "text": [
      "Access the value of Last column:  [25 50]\n"
     ]
    }
   ],
   "execution_count": 6
  },
  {
   "metadata": {
    "ExecuteTime": {
     "end_time": "2024-09-26T08:55:33.768656Z",
     "start_time": "2024-09-26T08:55:33.764652Z"
    }
   },
   "cell_type": "code",
   "source": [
    "#Access specific elements:\n",
    "print('Access specific elements: ', np_2d_array[[1],[1]])"
   ],
   "id": "f2c06c1e4ee90560",
   "outputs": [
    {
     "name": "stdout",
     "output_type": "stream",
     "text": [
      "Access specific elements:  [27]\n"
     ]
    }
   ],
   "execution_count": 7
  },
  {
   "metadata": {
    "ExecuteTime": {
     "end_time": "2024-09-26T08:55:33.781024Z",
     "start_time": "2024-09-26T08:55:33.776760Z"
    }
   },
   "cell_type": "code",
   "source": [
    "#Access elements greater than 30\n",
    "print('Access elements greater than 30: ', np_2d_array[np_2d_array>30])"
   ],
   "id": "8ea40bf172980137",
   "outputs": [
    {
     "name": "stdout",
     "output_type": "stream",
     "text": [
      "Access elements greater than 30:  [31 32 33 34 35 36 37 38 39 40 41 42 43 44 45 46 47 48 49 50]\n"
     ]
    }
   ],
   "execution_count": 8
  },
  {
   "metadata": {
    "ExecuteTime": {
     "end_time": "2024-09-26T08:55:33.795973Z",
     "start_time": "2024-09-26T08:55:33.791690Z"
    }
   },
   "cell_type": "code",
   "source": [
    "#Get Elements that are even\n",
    "print('Get Elements that are even: ', np_2d_array[np_2d_array%2==0])"
   ],
   "id": "51f3444c777bfba2",
   "outputs": [
    {
     "name": "stdout",
     "output_type": "stream",
     "text": [
      "Get Elements that are even:  [ 2  4  6  8 10 12 14 16 18 20 22 24 26 28 30 32 34 36 38 40 42 44 46 48\n",
      " 50]\n"
     ]
    }
   ],
   "execution_count": 9
  },
  {
   "metadata": {
    "ExecuteTime": {
     "end_time": "2024-09-26T08:55:33.820800Z",
     "start_time": "2024-09-26T08:55:33.815257Z"
    }
   },
   "cell_type": "code",
   "source": [
    "#Using ndindex to Loop Over Individual Elements\n",
    "for idx in np.ndindex(np_2d_array.shape):\n",
    "    print(f'Element at {idx} is {np_2d_array[idx]}')"
   ],
   "id": "6b815abde9f9cf97",
   "outputs": [
    {
     "name": "stdout",
     "output_type": "stream",
     "text": [
      "Element at (0, 0) is 1\n",
      "Element at (0, 1) is 2\n",
      "Element at (0, 2) is 3\n",
      "Element at (0, 3) is 4\n",
      "Element at (0, 4) is 5\n",
      "Element at (0, 5) is 6\n",
      "Element at (0, 6) is 7\n",
      "Element at (0, 7) is 8\n",
      "Element at (0, 8) is 9\n",
      "Element at (0, 9) is 10\n",
      "Element at (0, 10) is 11\n",
      "Element at (0, 11) is 12\n",
      "Element at (0, 12) is 13\n",
      "Element at (0, 13) is 14\n",
      "Element at (0, 14) is 15\n",
      "Element at (0, 15) is 16\n",
      "Element at (0, 16) is 17\n",
      "Element at (0, 17) is 18\n",
      "Element at (0, 18) is 19\n",
      "Element at (0, 19) is 20\n",
      "Element at (0, 20) is 21\n",
      "Element at (0, 21) is 22\n",
      "Element at (0, 22) is 23\n",
      "Element at (0, 23) is 24\n",
      "Element at (0, 24) is 25\n",
      "Element at (1, 0) is 26\n",
      "Element at (1, 1) is 27\n",
      "Element at (1, 2) is 28\n",
      "Element at (1, 3) is 29\n",
      "Element at (1, 4) is 30\n",
      "Element at (1, 5) is 31\n",
      "Element at (1, 6) is 32\n",
      "Element at (1, 7) is 33\n",
      "Element at (1, 8) is 34\n",
      "Element at (1, 9) is 35\n",
      "Element at (1, 10) is 36\n",
      "Element at (1, 11) is 37\n",
      "Element at (1, 12) is 38\n",
      "Element at (1, 13) is 39\n",
      "Element at (1, 14) is 40\n",
      "Element at (1, 15) is 41\n",
      "Element at (1, 16) is 42\n",
      "Element at (1, 17) is 43\n",
      "Element at (1, 18) is 44\n",
      "Element at (1, 19) is 45\n",
      "Element at (1, 20) is 46\n",
      "Element at (1, 21) is 47\n",
      "Element at (1, 22) is 48\n",
      "Element at (1, 23) is 49\n",
      "Element at (1, 24) is 50\n"
     ]
    }
   ],
   "execution_count": 10
  }
 ],
 "metadata": {
  "kernelspec": {
   "display_name": "Python 3",
   "language": "python",
   "name": "python3"
  },
  "language_info": {
   "codemirror_mode": {
    "name": "ipython",
    "version": 2
   },
   "file_extension": ".py",
   "mimetype": "text/x-python",
   "name": "python",
   "nbconvert_exporter": "python",
   "pygments_lexer": "ipython2",
   "version": "2.7.6"
  }
 },
 "nbformat": 4,
 "nbformat_minor": 5
}
