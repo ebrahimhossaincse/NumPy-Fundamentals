{
 "cells": [
  {
   "cell_type": "code",
   "id": "initial_id",
   "metadata": {
    "collapsed": true,
    "ExecuteTime": {
     "end_time": "2024-09-26T12:33:55.082566Z",
     "start_time": "2024-09-26T12:33:54.844519Z"
    }
   },
   "source": [
    "import numpy as np\n",
    "from numpy import dtype"
   ],
   "outputs": [],
   "execution_count": 1
  },
  {
   "metadata": {
    "ExecuteTime": {
     "end_time": "2024-09-26T12:33:55.109115Z",
     "start_time": "2024-09-26T12:33:55.098054Z"
    }
   },
   "cell_type": "code",
   "source": [
    "#Condition: multiplication of rows and cols before and after reshaping must be same\n",
    "my_np_array = np.full(\n",
    "    shape=(5,3),\n",
    "    dtype='int',\n",
    "    fill_value=10\n",
    ")\n",
    "print(\"Before Reshape: \", my_np_array)\n",
    "my_np_array_reshape = my_np_array.reshape(3,5)\n",
    "print('After Reshape: ', my_np_array_reshape)"
   ],
   "id": "a3cdbacafa15319f",
   "outputs": [
    {
     "name": "stdout",
     "output_type": "stream",
     "text": [
      "Before Reshape:  [[10 10 10]\n",
      " [10 10 10]\n",
      " [10 10 10]\n",
      " [10 10 10]\n",
      " [10 10 10]]\n",
      "After Reshape:  [[10 10 10 10 10]\n",
      " [10 10 10 10 10]\n",
      " [10 10 10 10 10]]\n"
     ]
    }
   ],
   "execution_count": 2
  },
  {
   "metadata": {
    "ExecuteTime": {
     "end_time": "2024-09-26T12:33:55.299373Z",
     "start_time": "2024-09-26T12:33:55.284953Z"
    }
   },
   "cell_type": "code",
   "source": [
    "#Reshape From 1-D to 2-D\n",
    "arr = np.array([1, 2, 3, 4, 5, 6, 7, 8, 9, 10, 11, 12])\n",
    "newarr = arr.reshape(4, 3)\n",
    "newarr"
   ],
   "id": "f46867e77264c2d3",
   "outputs": [
    {
     "data": {
      "text/plain": [
       "array([[ 1,  2,  3],\n",
       "       [ 4,  5,  6],\n",
       "       [ 7,  8,  9],\n",
       "       [10, 11, 12]])"
      ]
     },
     "execution_count": 3,
     "metadata": {},
     "output_type": "execute_result"
    }
   ],
   "execution_count": 3
  },
  {
   "metadata": {
    "ExecuteTime": {
     "end_time": "2024-09-26T12:33:56.202484Z",
     "start_time": "2024-09-26T12:33:56.191764Z"
    }
   },
   "cell_type": "code",
   "source": [
    "#Reshape From 1-D to 3-D\n",
    "arr = np.array([1, 2, 3, 4, 5, 6, 7, 8, 9, 10, 11, 12])\n",
    "newarr = arr.reshape(2, 3, 2) #number of array, rows, cols\n",
    "newarr"
   ],
   "id": "6a180bdbbeaad013",
   "outputs": [
    {
     "data": {
      "text/plain": [
       "array([[[ 1,  2],\n",
       "        [ 3,  4],\n",
       "        [ 5,  6]],\n",
       "\n",
       "       [[ 7,  8],\n",
       "        [ 9, 10],\n",
       "        [11, 12]]])"
      ]
     },
     "execution_count": 4,
     "metadata": {},
     "output_type": "execute_result"
    }
   ],
   "execution_count": 4
  },
  {
   "metadata": {
    "ExecuteTime": {
     "end_time": "2024-09-26T12:33:56.357352Z",
     "start_time": "2024-09-26T12:33:56.346736Z"
    }
   },
   "cell_type": "code",
   "source": [
    "# 2d array to 1d array\n",
    "np_2d_array = np.array([[1, 2, 3, 4, 5, 6, 7, 8, 9, 10, 11, 12, 13, 14, 15, 16, 17, 18, 19, 20, 21, 22, 23, 24, 25], [26, 27, 28, 29, 30, 31, 32, 33, 34, 35, 36, 37, 38, 39, 40, 41, 42, 43, 44, 45, 46, 47, 48, 49, 50]])\n",
    "np_2d_array.flatten()"
   ],
   "id": "155fc4f25026e07d",
   "outputs": [
    {
     "data": {
      "text/plain": [
       "array([ 1,  2,  3,  4,  5,  6,  7,  8,  9, 10, 11, 12, 13, 14, 15, 16, 17,\n",
       "       18, 19, 20, 21, 22, 23, 24, 25, 26, 27, 28, 29, 30, 31, 32, 33, 34,\n",
       "       35, 36, 37, 38, 39, 40, 41, 42, 43, 44, 45, 46, 47, 48, 49, 50])"
      ]
     },
     "execution_count": 5,
     "metadata": {},
     "output_type": "execute_result"
    }
   ],
   "execution_count": 5
  },
  {
   "metadata": {
    "ExecuteTime": {
     "end_time": "2024-09-26T12:33:56.437846Z",
     "start_time": "2024-09-26T12:33:56.427612Z"
    }
   },
   "cell_type": "code",
   "source": [
    "# 3d array to 1D array\n",
    "np_3d_array = np.array([\n",
    "    [[1, 2, 3, 4], [5, 6, 7, 8], [9, 10, 11, 12]],\n",
    "    [[13, 14, 15, 16], [17, 18, 19, 20], [21, 22, 23, 24]]\n",
    "])\n",
    "np_3d_array.flatten()"
   ],
   "id": "a665e98e295c9540",
   "outputs": [
    {
     "data": {
      "text/plain": [
       "array([ 1,  2,  3,  4,  5,  6,  7,  8,  9, 10, 11, 12, 13, 14, 15, 16, 17,\n",
       "       18, 19, 20, 21, 22, 23, 24])"
      ]
     },
     "execution_count": 6,
     "metadata": {},
     "output_type": "execute_result"
    }
   ],
   "execution_count": 6
  },
  {
   "metadata": {
    "ExecuteTime": {
     "end_time": "2024-09-26T12:33:56.509758Z",
     "start_time": "2024-09-26T12:33:56.495149Z"
    }
   },
   "cell_type": "code",
   "source": [
    "# 2d array to two 1d array\n",
    "np_2d_array = np.array([[1, 2, 3, 4, 5, 6, 7, 8, 9, 10, 11, 12, 13, 14, 15, 16, 17, 18, 19, 20, 21, 22, 23, 24, 25], [26, 27, 28, 29, 30, 31, 32, 33, 34, 35, 36, 37, 38, 39, 40, 41, 42, 43, 44, 45, 46, 47, 48, 49, 50]])\n",
    "first_row_1d = np_2d_array[0, :]\n",
    "\n",
    "print(\"First row as a 1D array:\")\n",
    "first_row_1d"
   ],
   "id": "65e0a64299f14ebc",
   "outputs": [
    {
     "name": "stdout",
     "output_type": "stream",
     "text": [
      "First row as a 1D array:\n"
     ]
    },
    {
     "data": {
      "text/plain": [
       "array([ 1,  2,  3,  4,  5,  6,  7,  8,  9, 10, 11, 12, 13, 14, 15, 16, 17,\n",
       "       18, 19, 20, 21, 22, 23, 24, 25])"
      ]
     },
     "execution_count": 7,
     "metadata": {},
     "output_type": "execute_result"
    }
   ],
   "execution_count": 7
  },
  {
   "metadata": {
    "ExecuteTime": {
     "end_time": "2024-09-26T12:48:49.961687Z",
     "start_time": "2024-09-26T12:48:49.953815Z"
    }
   },
   "cell_type": "code",
   "source": [
    "'''Reshape the array to 1D array'''\n",
    "my_np_array = np.ones((3,4,2,10))\n",
    "print(my_np_array.reshape(-1).shape)"
   ],
   "id": "501bb6d9d592e327",
   "outputs": [
    {
     "name": "stdout",
     "output_type": "stream",
     "text": [
      "(240,)\n"
     ]
    }
   ],
   "execution_count": 11
  },
  {
   "metadata": {
    "ExecuteTime": {
     "end_time": "2024-09-26T12:49:36.892916Z",
     "start_time": "2024-09-26T12:49:36.886373Z"
    }
   },
   "cell_type": "code",
   "source": [
    "my_np_array = np.ones((3,4,2,10))\n",
    "print(my_np_array.shape)\n",
    "print(my_np_array.reshape(2,-1,2).shape)"
   ],
   "id": "d4ec0fe06ab0afc3",
   "outputs": [
    {
     "name": "stdout",
     "output_type": "stream",
     "text": [
      "(3, 4, 2, 10)\n",
      "(2, 60, 2)\n"
     ]
    }
   ],
   "execution_count": 13
  },
  {
   "metadata": {
    "ExecuteTime": {
     "end_time": "2024-09-26T12:33:56.813743Z",
     "start_time": "2024-09-26T12:33:56.808625Z"
    }
   },
   "cell_type": "code",
   "source": "",
   "id": "6dd47129a0c8a860",
   "outputs": [],
   "execution_count": null
  }
 ],
 "metadata": {
  "kernelspec": {
   "display_name": "Python 3",
   "language": "python",
   "name": "python3"
  },
  "language_info": {
   "codemirror_mode": {
    "name": "ipython",
    "version": 2
   },
   "file_extension": ".py",
   "mimetype": "text/x-python",
   "name": "python",
   "nbconvert_exporter": "python",
   "pygments_lexer": "ipython2",
   "version": "2.7.6"
  }
 },
 "nbformat": 4,
 "nbformat_minor": 5
}
