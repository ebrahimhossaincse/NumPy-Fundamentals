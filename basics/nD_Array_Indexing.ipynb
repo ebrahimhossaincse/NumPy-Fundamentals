{
 "cells": [
  {
   "cell_type": "code",
   "id": "initial_id",
   "metadata": {
    "collapsed": true,
    "ExecuteTime": {
     "end_time": "2024-09-23T10:38:58.462530Z",
     "start_time": "2024-09-23T10:38:58.457177Z"
    }
   },
   "source": [
    "import numpy as np\n",
    "\n",
    "np_3d_array = np.array([\n",
    "    [[1, 2, 3, 4], [5, 6, 7, 8], [9, 10, 11, 12]],\n",
    "    [[13, 14, 15, 16], [17, 18, 19, 20], [21, 22, 23, 24]]\n",
    "])\n",
    "\n",
    "print('3D Array: ', np_3d_array)"
   ],
   "outputs": [
    {
     "name": "stdout",
     "output_type": "stream",
     "text": [
      "3D Array:  [[[ 1  2  3  4]\n",
      "  [ 5  6  7  8]\n",
      "  [ 9 10 11 12]]\n",
      "\n",
      " [[13 14 15 16]\n",
      "  [17 18 19 20]\n",
      "  [21 22 23 24]]]\n"
     ]
    }
   ],
   "execution_count": 46
  },
  {
   "metadata": {
    "ExecuteTime": {
     "end_time": "2024-09-23T10:38:58.571144Z",
     "start_time": "2024-09-23T10:38:58.566681Z"
    }
   },
   "cell_type": "code",
   "source": [
    "#Access a specific element\n",
    "# Accesses the element (1st block, 2nd row, 3rd column)\n",
    "element = np_3d_array[0, 1, 2]  \n",
    "print('Access a specific element: ',element)\n"
   ],
   "id": "4d064ca76b8dfa81",
   "outputs": [
    {
     "name": "stdout",
     "output_type": "stream",
     "text": [
      "Access a specific element:  7\n"
     ]
    }
   ],
   "execution_count": 47
  },
  {
   "metadata": {
    "ExecuteTime": {
     "end_time": "2024-09-23T10:38:58.601641Z",
     "start_time": "2024-09-23T10:38:58.597477Z"
    }
   },
   "cell_type": "code",
   "source": [
    "#Using lists or arrays of indices\n",
    "rows = [0, 1]  # Select rows 0 and 1\n",
    "cols = [2, 1]  # Select columns 2 and 1\n",
    "selected_elements = np_3d_array[rows, :, cols] \n",
    "print('Access specific elements using a list of indices: ', selected_elements)"
   ],
   "id": "5c48cccb097a5808",
   "outputs": [
    {
     "name": "stdout",
     "output_type": "stream",
     "text": [
      "Access specific elements using a list of indices:  [[ 3  7 11]\n",
      " [14 18 22]]\n"
     ]
    }
   ],
   "execution_count": 48
  },
  {
   "metadata": {
    "ExecuteTime": {
     "end_time": "2024-09-23T10:38:58.630446Z",
     "start_time": "2024-09-23T10:38:58.624642Z"
    }
   },
   "cell_type": "code",
   "source": [
    "np_4d_array = np.array([\n",
    "    [[[1, 2, 3, 4], [5, 6, 7, 8], [9, 10, 11, 12]],\n",
    "     [[13, 14, 15, 16], [17, 18, 19, 20], [21, 22, 23, 24]]],\n",
    "    \n",
    "    [[[25, 26, 27, 28], [29, 30, 31, 32], [33, 34, 35, 36]],\n",
    "     [[37, 38, 39, 40], [41, 42, 43, 44], [45, 46, 47, 48]]]\n",
    "])\n",
    "\n",
    "# Accessing an element in the 4D array\n",
    "element_4d = np_4d_array[1, 0, 2, 3]  # Access element 36 (2nd block, 1st sub-block, 3rd row, 4th column)\n",
    "print(\"Element from 4D array:\", element_4d)"
   ],
   "id": "aec95ca48738fbc9",
   "outputs": [
    {
     "name": "stdout",
     "output_type": "stream",
     "text": [
      "Element from 4D array: 36\n"
     ]
    }
   ],
   "execution_count": 49
  },
  {
   "metadata": {
    "ExecuteTime": {
     "end_time": "2024-09-23T10:38:58.742358Z",
     "start_time": "2024-09-23T10:38:58.736351Z"
    }
   },
   "cell_type": "code",
   "source": [
    "np_5d_array = np.array([[[[[54, 82, 66, 74], [44, 91, 20, 32], [23, 78, 29, 83]], [[1, 44, 27, 15], [49, 80, 1, 56], [84, 39, 9, 53]]], [[[54, 37, 19, 59], [78, 85, 81, 50], [14, 85, 58, 74]], [[3, 76, 82, 96], [68, 14, 25, 1], [55, 4, 30, 21]]]], [[[[16, 39, 17, 60], [75, 95, 40, 11], [25, 86, 30, 29]], [[33, 54, 78, 93], [24, 50, 22, 62], [74, 35, 38, 65]]], [[[37, 58, 79, 31], [95, 22, 72, 82], [99, 36, 77, 21]], [[75, 30, 11, 4], [16, 44, 83, 87], [26, 32, 13, 47]]]]])\n",
    "# print(np_5d_array.tolist())\n",
    "\n",
    "# Accessing an element in the 5D array\n",
    "element_5d = np_5d_array[0, 1, 0, 1, 3]  # Access a specific element from the 5D array\n",
    "print(\"Element from 5D array:\", element_5d)"
   ],
   "id": "fee3757dd7a24219",
   "outputs": [
    {
     "name": "stdout",
     "output_type": "stream",
     "text": [
      "Element from 5D array: 50\n"
     ]
    }
   ],
   "execution_count": 50
  },
  {
   "metadata": {
    "ExecuteTime": {
     "end_time": "2024-09-23T10:38:58.845090Z",
     "start_time": "2024-09-23T10:38:58.841884Z"
    }
   },
   "cell_type": "code",
   "source": "",
   "id": "a3d3119e291f8d8e",
   "outputs": [],
   "execution_count": null
  }
 ],
 "metadata": {
  "kernelspec": {
   "display_name": "Python 3",
   "language": "python",
   "name": "python3"
  },
  "language_info": {
   "codemirror_mode": {
    "name": "ipython",
    "version": 2
   },
   "file_extension": ".py",
   "mimetype": "text/x-python",
   "name": "python",
   "nbconvert_exporter": "python",
   "pygments_lexer": "ipython2",
   "version": "2.7.6"
  }
 },
 "nbformat": 4,
 "nbformat_minor": 5
}
