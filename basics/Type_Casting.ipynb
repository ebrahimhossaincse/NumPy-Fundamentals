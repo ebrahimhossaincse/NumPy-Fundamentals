{
 "cells": [
  {
   "cell_type": "code",
   "id": "initial_id",
   "metadata": {
    "collapsed": true,
    "ExecuteTime": {
     "end_time": "2024-09-26T08:56:06.989200Z",
     "start_time": "2024-09-26T08:56:06.817198Z"
    }
   },
   "source": "import numpy as np",
   "outputs": [],
   "execution_count": 1
  },
  {
   "metadata": {
    "ExecuteTime": {
     "end_time": "2024-09-26T08:56:07.008155Z",
     "start_time": "2024-09-26T08:56:06.999214Z"
    }
   },
   "cell_type": "code",
   "source": [
    "#Using astype() method\n",
    "arr = np.array(\n",
    "    [1.5, 2.8, 3.2]\n",
    ")\n",
    "print('Before casting the data type: ', arr.dtype)\n",
    "int_arr = arr.astype(int)  # Cast to integer\n",
    "print('Int Array: ',int_arr)\n",
    "print('After casting the data type:', int_arr.dtype)"
   ],
   "id": "301ac0675673c115",
   "outputs": [
    {
     "name": "stdout",
     "output_type": "stream",
     "text": [
      "Before casting the data type:  float64\n",
      "Int Array:  [1 2 3]\n",
      "After casting the data type: int32\n"
     ]
    }
   ],
   "execution_count": 2
  },
  {
   "metadata": {
    "ExecuteTime": {
     "end_time": "2024-09-26T08:56:07.115864Z",
     "start_time": "2024-09-26T08:56:07.109905Z"
    }
   },
   "cell_type": "code",
   "source": [
    "#Specifying dtype during array creation\n",
    "arr = np.array(\n",
    "    [1.5, 2.8, 3.2], \n",
    "    dtype=int # Creates an integer array\n",
    ")  \n",
    "print('Array: ',arr)\n",
    "print('Data Type: ',arr.dtype)"
   ],
   "id": "eecf99aa881277ec",
   "outputs": [
    {
     "name": "stdout",
     "output_type": "stream",
     "text": [
      "Array:  [1 2 3]\n",
      "Data Type:  int32\n"
     ]
    }
   ],
   "execution_count": 3
  },
  {
   "metadata": {
    "ExecuteTime": {
     "end_time": "2024-09-26T08:56:07.174167Z",
     "start_time": "2024-09-26T08:56:07.167002Z"
    }
   },
   "cell_type": "code",
   "source": [
    "#Using numpy.cast module\n",
    "arr = np.array([1.5, 2, 3.2, 5, 6.6, 8])\n",
    "\n",
    "# Cast to integer\n",
    "int_arr = np.int_(arr)\n",
    "print('Cast to integer: ', int_arr)\n",
    "\n",
    "# Cast to float\n",
    "float_arr = np.float_(arr)\n",
    "print('Cast to float: ', float_arr)\n"
   ],
   "id": "da0c037411be60d2",
   "outputs": [
    {
     "name": "stdout",
     "output_type": "stream",
     "text": [
      "Cast to integer:  [1 2 3 5 6 8]\n",
      "Cast to float:  [1.5 2.  3.2 5.  6.6 8. ]\n"
     ]
    }
   ],
   "execution_count": 4
  },
  {
   "metadata": {
    "ExecuteTime": {
     "end_time": "2024-09-26T08:56:07.224171Z",
     "start_time": "2024-09-26T08:56:07.217174Z"
    }
   },
   "cell_type": "code",
   "source": [
    "#Casting with scalar conversion\n",
    "scalar = 3.14159\n",
    "scalar2 = 8\n",
    "# Convert scalar to integer\n",
    "int_scalar = np.int64(scalar)\n",
    "print('Convert scalar to integer: ',int_scalar)\n",
    "\n",
    "# Convert scalar to float\n",
    "float_scalar = np.float32(scalar2)\n",
    "print('Convert scalar to float: ',float_scalar)\n"
   ],
   "id": "7a344dd765326fd",
   "outputs": [
    {
     "name": "stdout",
     "output_type": "stream",
     "text": [
      "Convert scalar to integer:  3\n",
      "Convert scalar to float:  8.0\n"
     ]
    }
   ],
   "execution_count": 5
  },
  {
   "metadata": {
    "ExecuteTime": {
     "end_time": "2024-09-26T08:56:07.266896Z",
     "start_time": "2024-09-26T08:56:07.259430Z"
    }
   },
   "cell_type": "code",
   "source": [
    "#Casting during arithmetic operations\n",
    "arr1 = np.array(\n",
    "    [1, 2, 3], \n",
    "    dtype=np.int32\n",
    ")\n",
    "\n",
    "arr2 = np.array(\n",
    "    [1.1, 2.2, 3.3], \n",
    "    dtype=np.float64\n",
    ")\n",
    "\n",
    "# The integer array will be cast to float64\n",
    "result = arr1 + arr2\n",
    "print('Result: ',result)\n",
    "print('Data Type: ',result.dtype)\n"
   ],
   "id": "59516bb40ac3daa9",
   "outputs": [
    {
     "name": "stdout",
     "output_type": "stream",
     "text": [
      "Result:  [2.1 4.2 6.3]\n",
      "Data Type:  float64\n"
     ]
    }
   ],
   "execution_count": 6
  },
  {
   "metadata": {
    "ExecuteTime": {
     "end_time": "2024-09-26T08:56:07.317488Z",
     "start_time": "2024-09-26T08:56:07.308907Z"
    }
   },
   "cell_type": "code",
   "source": [
    "#Casting using numpy.ndarray.view()\n",
    "arr = np.array(\n",
    "    [1, 2, 3, 4],\n",
    "    dtype=np.int32\n",
    ")\n",
    "\n",
    "print(\"Original array:\")\n",
    "print(arr)\n",
    "print(arr.dtype)  # The array is of type int32\n",
    "\n",
    "# View the array as 32-bit floats (without changing the data)\n",
    "float_view = arr.view(np.float32)\n",
    "print(\"\\nArray viewed as float32:\")\n",
    "print(float_view)\n",
    "print(float_view.dtype)\n"
   ],
   "id": "9d9408eea50aded1",
   "outputs": [
    {
     "name": "stdout",
     "output_type": "stream",
     "text": [
      "Original array:\n",
      "[1 2 3 4]\n",
      "int32\n",
      "\n",
      "Array viewed as float32:\n",
      "[1.e-45 3.e-45 4.e-45 6.e-45]\n",
      "float32\n"
     ]
    }
   ],
   "execution_count": 7
  },
  {
   "metadata": {
    "ExecuteTime": {
     "end_time": "2024-09-26T08:56:07.356642Z",
     "start_time": "2024-09-26T08:56:07.350153Z"
    }
   },
   "cell_type": "code",
   "source": [
    "#Casting using numpy.ndarray.astype() with safety controls\n",
    "arr = np.array(\n",
    "    [1, 2, 3]\n",
    ")\n",
    "\n",
    "# Cast to float with a 'safe' cast\n",
    "float_arr = arr.astype('int')\n",
    "print('Cast to float with a safe cast: ',float_arr)\n",
    "print('Data Type: ',float_arr.dtype)\n"
   ],
   "id": "6a4d666cc937c67b",
   "outputs": [
    {
     "name": "stdout",
     "output_type": "stream",
     "text": [
      "Cast to float with a safe cast:  [1 2 3]\n",
      "Data Type:  int32\n"
     ]
    }
   ],
   "execution_count": 8
  },
  {
   "metadata": {
    "ExecuteTime": {
     "end_time": "2024-09-26T08:56:07.387574Z",
     "start_time": "2024-09-26T08:56:07.383690Z"
    }
   },
   "cell_type": "code",
   "source": "",
   "id": "3f3a24784987590e",
   "outputs": [],
   "execution_count": null
  },
  {
   "metadata": {
    "ExecuteTime": {
     "end_time": "2024-09-26T08:56:07.418998Z",
     "start_time": "2024-09-26T08:56:07.415005Z"
    }
   },
   "cell_type": "code",
   "source": "",
   "id": "2a141eaf810a2e5d",
   "outputs": [],
   "execution_count": null
  },
  {
   "metadata": {
    "ExecuteTime": {
     "end_time": "2024-09-26T08:56:07.459118Z",
     "start_time": "2024-09-26T08:56:07.455898Z"
    }
   },
   "cell_type": "code",
   "source": "",
   "id": "124ec8e363b0956e",
   "outputs": [],
   "execution_count": null
  },
  {
   "metadata": {
    "ExecuteTime": {
     "end_time": "2024-09-26T08:56:07.482509Z",
     "start_time": "2024-09-26T08:56:07.478758Z"
    }
   },
   "cell_type": "code",
   "source": "",
   "id": "d2f6998850a6c899",
   "outputs": [],
   "execution_count": null
  },
  {
   "metadata": {
    "ExecuteTime": {
     "end_time": "2024-09-26T08:56:07.525784Z",
     "start_time": "2024-09-26T08:56:07.522249Z"
    }
   },
   "cell_type": "code",
   "source": "",
   "id": "a0723bdd1fa20a21",
   "outputs": [],
   "execution_count": null
  }
 ],
 "metadata": {
  "kernelspec": {
   "display_name": "Python 3",
   "language": "python",
   "name": "python3"
  },
  "language_info": {
   "codemirror_mode": {
    "name": "ipython",
    "version": 2
   },
   "file_extension": ".py",
   "mimetype": "text/x-python",
   "name": "python",
   "nbconvert_exporter": "python",
   "pygments_lexer": "ipython2",
   "version": "2.7.6"
  }
 },
 "nbformat": 4,
 "nbformat_minor": 5
}
