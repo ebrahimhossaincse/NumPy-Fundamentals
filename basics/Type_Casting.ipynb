{
 "cells": [
  {
   "cell_type": "code",
   "id": "initial_id",
   "metadata": {
    "collapsed": true,
    "ExecuteTime": {
     "end_time": "2024-09-24T06:22:32.721259Z",
     "start_time": "2024-09-24T06:22:32.717790Z"
    }
   },
   "source": "import numpy as np",
   "outputs": [],
   "execution_count": 1
  },
  {
   "metadata": {
    "ExecuteTime": {
     "end_time": "2024-09-24T06:25:09.084637Z",
     "start_time": "2024-09-24T06:25:09.080125Z"
    }
   },
   "cell_type": "code",
   "source": [
    "#Using astype() method\n",
    "arr = np.array(\n",
    "    [1.5, 2.8, 3.2]\n",
    ")\n",
    "print('Before casting the data type: ', arr.dtype)\n",
    "int_arr = arr.astype(int)  # Cast to integer\n",
    "print('Int Array: ',int_arr)\n",
    "print('After casting the data type:', int_arr.dtype)"
   ],
   "id": "301ac0675673c115",
   "outputs": [
    {
     "name": "stdout",
     "output_type": "stream",
     "text": [
      "Before casting the data type:  float64\n",
      "Int Array:  [1 2 3]\n",
      "After casting the data type: int32\n"
     ]
    }
   ],
   "execution_count": 3
  },
  {
   "metadata": {
    "ExecuteTime": {
     "end_time": "2024-09-24T06:26:19.110317Z",
     "start_time": "2024-09-24T06:26:19.104592Z"
    }
   },
   "cell_type": "code",
   "source": [
    "#Specifying dtype during array creation\n",
    "arr = np.array(\n",
    "    [1.5, 2.8, 3.2], \n",
    "    dtype=int # Creates an integer array\n",
    ")  \n",
    "print('Array: ',arr)\n",
    "print('Data Type: ',arr.dtype)"
   ],
   "id": "eecf99aa881277ec",
   "outputs": [
    {
     "name": "stdout",
     "output_type": "stream",
     "text": [
      "Array:  [1 2 3]\n",
      "Data Type:  int32\n"
     ]
    }
   ],
   "execution_count": 4
  },
  {
   "metadata": {
    "ExecuteTime": {
     "end_time": "2024-09-24T06:28:14.395616Z",
     "start_time": "2024-09-24T06:28:14.391022Z"
    }
   },
   "cell_type": "code",
   "source": [
    "#Using numpy.cast module\n",
    "arr = np.array([1.5, 2, 3.2, 5, 6.6, 8])\n",
    "\n",
    "# Cast to integer\n",
    "int_arr = np.int_(arr)\n",
    "print('Cast to integer: ', int_arr)\n",
    "\n",
    "# Cast to float\n",
    "float_arr = np.float_(arr)\n",
    "print('Cast to float: ', float_arr)\n"
   ],
   "id": "da0c037411be60d2",
   "outputs": [
    {
     "name": "stdout",
     "output_type": "stream",
     "text": [
      "Cast to integer:  [1 2 3 5 6 8]\n",
      "Cast to float:  [1.5 2.  3.2 5.  6.6 8. ]\n"
     ]
    }
   ],
   "execution_count": 7
  },
  {
   "metadata": {
    "ExecuteTime": {
     "end_time": "2024-09-24T06:30:03.235327Z",
     "start_time": "2024-09-24T06:30:03.229571Z"
    }
   },
   "cell_type": "code",
   "source": [
    "#Casting with scalar conversion\n",
    "scalar = 3.14159\n",
    "scalar2 = 8\n",
    "# Convert scalar to integer\n",
    "int_scalar = np.int64(scalar)\n",
    "print('Convert scalar to integer: ',int_scalar)\n",
    "\n",
    "# Convert scalar to float\n",
    "float_scalar = np.float32(scalar2)\n",
    "print('Convert scalar to float: ',float_scalar)\n"
   ],
   "id": "7a344dd765326fd",
   "outputs": [
    {
     "name": "stdout",
     "output_type": "stream",
     "text": [
      "Convert scalar to integer:  3\n",
      "Convert scalar to float:  8.0\n"
     ]
    }
   ],
   "execution_count": 9
  },
  {
   "metadata": {
    "ExecuteTime": {
     "end_time": "2024-09-24T06:31:06.196546Z",
     "start_time": "2024-09-24T06:31:06.190924Z"
    }
   },
   "cell_type": "code",
   "source": [
    "#Casting during arithmetic operations\n",
    "arr1 = np.array(\n",
    "    [1, 2, 3], \n",
    "    dtype=np.int32\n",
    ")\n",
    "\n",
    "arr2 = np.array(\n",
    "    [1.1, 2.2, 3.3], \n",
    "    dtype=np.float64\n",
    ")\n",
    "\n",
    "# The integer array will be cast to float64\n",
    "result = arr1 + arr2\n",
    "print('Result: ',result)\n",
    "print('Data Type: ',result.dtype)\n"
   ],
   "id": "59516bb40ac3daa9",
   "outputs": [
    {
     "name": "stdout",
     "output_type": "stream",
     "text": [
      "[2.1 4.2 6.3]\n",
      "float64\n"
     ]
    }
   ],
   "execution_count": 10
  },
  {
   "metadata": {
    "ExecuteTime": {
     "end_time": "2024-09-24T06:38:28.966288Z",
     "start_time": "2024-09-24T06:38:28.958100Z"
    }
   },
   "cell_type": "code",
   "source": [
    "#Casting using numpy.ndarray.view()\n",
    "arr = np.array(\n",
    "    [1, 2, 3, 4],\n",
    "    dtype=np.int32\n",
    ")\n",
    "\n",
    "print(\"Original array:\")\n",
    "print(arr)\n",
    "print(arr.dtype)  # The array is of type int32\n",
    "\n",
    "# View the array as 32-bit floats (without changing the data)\n",
    "float_view = arr.view(np.float32)\n",
    "print(\"\\nArray viewed as float32:\")\n",
    "print(float_view)\n",
    "print(float_view.dtype)\n"
   ],
   "id": "9d9408eea50aded1",
   "outputs": [
    {
     "name": "stdout",
     "output_type": "stream",
     "text": [
      "Original array:\n",
      "[1 2 3 4]\n",
      "int32\n",
      "\n",
      "Array viewed as float32:\n",
      "[1.e-45 3.e-45 4.e-45 6.e-45]\n",
      "float32\n"
     ]
    }
   ],
   "execution_count": 12
  },
  {
   "metadata": {
    "ExecuteTime": {
     "end_time": "2024-09-24T06:42:54.468086Z",
     "start_time": "2024-09-24T06:42:54.462469Z"
    }
   },
   "cell_type": "code",
   "source": [
    "#Casting using numpy.ndarray.astype() with safety controls\n",
    "arr = np.array(\n",
    "    [1, 2, 3]\n",
    ")\n",
    "\n",
    "# Cast to float with a 'safe' cast\n",
    "float_arr = arr.astype('int')\n",
    "print('Cast to float with a safe cast: ',float_arr)\n",
    "print('Data Type: ',float_arr.dtype)\n"
   ],
   "id": "6a4d666cc937c67b",
   "outputs": [
    {
     "name": "stdout",
     "output_type": "stream",
     "text": [
      "Cast to float with a safe cast:  [1 2 3]\n",
      "Data Type:  int32\n"
     ]
    }
   ],
   "execution_count": 15
  },
  {
   "metadata": {},
   "cell_type": "code",
   "outputs": [],
   "execution_count": null,
   "source": "",
   "id": "3f3a24784987590e"
  },
  {
   "metadata": {},
   "cell_type": "code",
   "outputs": [],
   "execution_count": null,
   "source": "",
   "id": "2a141eaf810a2e5d"
  },
  {
   "metadata": {},
   "cell_type": "code",
   "outputs": [],
   "execution_count": null,
   "source": "",
   "id": "124ec8e363b0956e"
  },
  {
   "metadata": {},
   "cell_type": "code",
   "outputs": [],
   "execution_count": null,
   "source": "",
   "id": "d2f6998850a6c899"
  },
  {
   "metadata": {
    "ExecuteTime": {
     "end_time": "2024-09-24T06:22:33.077103Z",
     "start_time": "2024-09-24T06:22:33.074652Z"
    }
   },
   "cell_type": "code",
   "source": "",
   "id": "a0723bdd1fa20a21",
   "outputs": [],
   "execution_count": null
  }
 ],
 "metadata": {
  "kernelspec": {
   "display_name": "Python 3",
   "language": "python",
   "name": "python3"
  },
  "language_info": {
   "codemirror_mode": {
    "name": "ipython",
    "version": 2
   },
   "file_extension": ".py",
   "mimetype": "text/x-python",
   "name": "python",
   "nbconvert_exporter": "python",
   "pygments_lexer": "ipython2",
   "version": "2.7.6"
  }
 },
 "nbformat": 4,
 "nbformat_minor": 5
}
