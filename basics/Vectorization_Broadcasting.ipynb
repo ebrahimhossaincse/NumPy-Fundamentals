{
 "cells": [
  {
   "metadata": {
    "collapsed": true,
    "ExecuteTime": {
     "end_time": "2024-09-26T11:23:04.556118Z",
     "start_time": "2024-09-26T11:23:04.383414Z"
    }
   },
   "cell_type": "code",
   "outputs": [],
   "execution_count": 1,
   "source": "import numpy as np",
   "id": "initial_id"
  },
  {
   "metadata": {},
   "cell_type": "code",
   "outputs": [],
   "execution_count": null,
   "source": "\"\"\"Vectorization\"\"\"",
   "id": "c7f405c311768207"
  },
  {
   "metadata": {
    "ExecuteTime": {
     "end_time": "2024-09-26T11:23:37.667708Z",
     "start_time": "2024-09-26T11:23:37.663186Z"
    }
   },
   "cell_type": "code",
   "source": [
    "\"\"\"Element-wise multiplication\"\"\"\n",
    "array = np.array([1, 2, 3, 4, 5])\n",
    "result = array * 2\n",
    "print(result)  # Output: [ 2,  4,  6,  8, 10]"
   ],
   "id": "b352bf48928975ec",
   "outputs": [
    {
     "name": "stdout",
     "output_type": "stream",
     "text": [
      "[ 2  4  6  8 10]\n"
     ]
    }
   ],
   "execution_count": 2
  },
  {
   "metadata": {
    "ExecuteTime": {
     "end_time": "2024-09-26T11:24:01.521709Z",
     "start_time": "2024-09-26T11:24:01.514465Z"
    }
   },
   "cell_type": "code",
   "source": [
    "\"\"\"Matrix multiplication\"\"\"\n",
    "array1 = np.array([[1, 2], [3, 4]])\n",
    "array2 = np.array([[5, 6], [7, 8]])\n",
    "result = np.dot(array1, array2)\n",
    "print(result)\n",
    "# Output:\n",
    "# [[19 22],\n",
    "#  [43 50]]"
   ],
   "id": "1b110e4160caf30d",
   "outputs": [
    {
     "name": "stdout",
     "output_type": "stream",
     "text": [
      "[[19 22]\n",
      " [43 50]]\n"
     ]
    }
   ],
   "execution_count": 3
  },
  {
   "metadata": {},
   "cell_type": "code",
   "outputs": [],
   "execution_count": null,
   "source": "\"\"\"Broadcasting\"\"\"",
   "id": "c4bd740271bc3cd9"
  },
  {
   "metadata": {
    "ExecuteTime": {
     "end_time": "2024-09-26T11:50:01.303362Z",
     "start_time": "2024-09-26T11:50:01.298660Z"
    }
   },
   "cell_type": "code",
   "source": [
    "arr1 = np.array([1, 2, 3])         # Shape (3,)\n",
    "arr2 = np.array([[10], [20], [30]]) # Shape (3, 1)\n",
    "\n",
    "# Broadcasting occurs here\n",
    "result = arr1 + arr2\n",
    "\n",
    "print(result)"
   ],
   "id": "74fe24c7281ac946",
   "outputs": [
    {
     "name": "stdout",
     "output_type": "stream",
     "text": [
      "[[11 12 13]\n",
      " [21 22 23]\n",
      " [31 32 33]]\n"
     ]
    }
   ],
   "execution_count": 23
  },
  {
   "metadata": {
    "ExecuteTime": {
     "end_time": "2024-09-26T11:50:28.515762Z",
     "start_time": "2024-09-26T11:50:28.510699Z"
    }
   },
   "cell_type": "code",
   "source": [
    "arr = np.array([[1, 2, 3], [4, 5, 6]])\n",
    "scalar = 10\n",
    "\n",
    "# Broadcasting occurs here\n",
    "result = arr + scalar\n",
    "\n",
    "print(result)"
   ],
   "id": "c52d7ace39588228",
   "outputs": [
    {
     "name": "stdout",
     "output_type": "stream",
     "text": [
      "[[11 12 13]\n",
      " [14 15 16]]\n"
     ]
    }
   ],
   "execution_count": 24
  },
  {
   "metadata": {
    "ExecuteTime": {
     "end_time": "2024-09-26T11:49:26.994076Z",
     "start_time": "2024-09-26T11:49:26.986600Z"
    }
   },
   "cell_type": "code",
   "source": [
    "array1 = np.array([1, 2, 3])\n",
    "array2 = np.array([[4, 5, 6]])\n",
    "result = array1 * array2\n",
    "result"
   ],
   "id": "e93614d2e630cbd5",
   "outputs": [
    {
     "data": {
      "text/plain": [
       "array([[ 4, 10, 18]])"
      ]
     },
     "execution_count": 22,
     "metadata": {},
     "output_type": "execute_result"
    }
   ],
   "execution_count": 22
  },
  {
   "metadata": {
    "ExecuteTime": {
     "end_time": "2024-09-26T11:51:42.949695Z",
     "start_time": "2024-09-26T11:51:42.944992Z"
    }
   },
   "cell_type": "code",
   "source": [
    "array1 = np.array([1, 2, 3])\n",
    "array2 = np.array([[4], [5], [6]])\n",
    "result = array1 + array2\n",
    "print(result)"
   ],
   "id": "f4a0feed763991e8",
   "outputs": [
    {
     "name": "stdout",
     "output_type": "stream",
     "text": [
      "[[5 6 7]\n",
      " [6 7 8]\n",
      " [7 8 9]]\n"
     ]
    }
   ],
   "execution_count": 25
  },
  {
   "metadata": {
    "ExecuteTime": {
     "end_time": "2024-09-26T11:52:50.265496Z",
     "start_time": "2024-09-26T11:52:50.260025Z"
    }
   },
   "cell_type": "code",
   "source": [
    "array1 = np.array([[1, 2], [3, 4]])\n",
    "array2 = np.array([[[5, 6], [7, 8]]])\n",
    "result = array1 + array2\n",
    "print(result)"
   ],
   "id": "e93d19fcf3c29256",
   "outputs": [
    {
     "name": "stdout",
     "output_type": "stream",
     "text": [
      "[[[ 6  8]\n",
      "  [10 12]]]\n"
     ]
    }
   ],
   "execution_count": 26
  },
  {
   "metadata": {
    "ExecuteTime": {
     "end_time": "2024-09-26T11:53:28.934915Z",
     "start_time": "2024-09-26T11:53:28.929733Z"
    }
   },
   "cell_type": "code",
   "source": [
    "scalar = 5\n",
    "array = np.array([1, 2, 3])\n",
    "result = scalar * array\n",
    "result"
   ],
   "id": "f561f0599a004750",
   "outputs": [
    {
     "data": {
      "text/plain": [
       "array([ 5, 10, 15])"
      ]
     },
     "execution_count": 28,
     "metadata": {},
     "output_type": "execute_result"
    }
   ],
   "execution_count": 28
  },
  {
   "metadata": {
    "ExecuteTime": {
     "end_time": "2024-09-26T11:53:43.704717Z",
     "start_time": "2024-09-26T11:53:43.700006Z"
    }
   },
   "cell_type": "code",
   "source": [
    "array1 = np.array([1, 2, 3])\n",
    "array2 = np.array([[4], [5], [6]])\n",
    "result = array1 * array2\n",
    "print(result)"
   ],
   "id": "33e34a97606d2d88",
   "outputs": [
    {
     "name": "stdout",
     "output_type": "stream",
     "text": [
      "[[ 4  8 12]\n",
      " [ 5 10 15]\n",
      " [ 6 12 18]]\n"
     ]
    }
   ],
   "execution_count": 29
  },
  {
   "metadata": {
    "ExecuteTime": {
     "end_time": "2024-09-26T11:54:11.139314Z",
     "start_time": "2024-09-26T11:54:11.134287Z"
    }
   },
   "cell_type": "code",
   "source": [
    "array1 = np.array([[1, 2], [3, 4]])\n",
    "array2 = np.array([[[5, 6], [7, 8]]])\n",
    "result = array1 * array2\n",
    "print(result)"
   ],
   "id": "a9c6ac47f8ea5ce1",
   "outputs": [
    {
     "name": "stdout",
     "output_type": "stream",
     "text": [
      "[[[ 5 12]\n",
      "  [21 32]]]\n"
     ]
    }
   ],
   "execution_count": 30
  }
 ],
 "metadata": {
  "kernelspec": {
   "display_name": "Python 3",
   "language": "python",
   "name": "python3"
  },
  "language_info": {
   "codemirror_mode": {
    "name": "ipython",
    "version": 2
   },
   "file_extension": ".py",
   "mimetype": "text/x-python",
   "name": "python",
   "nbconvert_exporter": "python",
   "pygments_lexer": "ipython2",
   "version": "2.7.6"
  }
 },
 "nbformat": 4,
 "nbformat_minor": 5
}
