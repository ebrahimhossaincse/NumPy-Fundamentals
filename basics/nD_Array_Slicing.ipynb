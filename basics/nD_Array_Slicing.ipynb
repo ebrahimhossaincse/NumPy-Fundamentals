{
 "cells": [
  {
   "cell_type": "code",
   "id": "initial_id",
   "metadata": {
    "collapsed": true,
    "ExecuteTime": {
     "end_time": "2024-09-26T08:55:55.126831Z",
     "start_time": "2024-09-26T08:55:54.990544Z"
    }
   },
   "source": [
    "import numpy as np\n",
    "\n",
    "np_3d_array = np.array([\n",
    "    [[1, 2, 3, 4], [5, 6, 7, 8], [9, 10, 11, 12]],\n",
    "    [[13, 14, 15, 16], [17, 18, 19, 20], [21, 22, 23, 24]]\n",
    "])\n",
    "\n",
    "print('3D Array: ', np_3d_array)"
   ],
   "outputs": [
    {
     "name": "stdout",
     "output_type": "stream",
     "text": [
      "3D Array:  [[[ 1  2  3  4]\n",
      "  [ 5  6  7  8]\n",
      "  [ 9 10 11 12]]\n",
      "\n",
      " [[13 14 15 16]\n",
      "  [17 18 19 20]\n",
      "  [21 22 23 24]]]\n"
     ]
    }
   ],
   "execution_count": 1
  },
  {
   "metadata": {
    "ExecuteTime": {
     "end_time": "2024-09-26T08:55:55.179013Z",
     "start_time": "2024-09-26T08:55:55.173749Z"
    }
   },
   "cell_type": "code",
   "source": [
    "#Access a specific slice\n",
    "element = np_3d_array[1, :, :]\n",
    "print('Accesses the 2nd 2D slice:: ', element)"
   ],
   "id": "24640e57b689af24",
   "outputs": [
    {
     "name": "stdout",
     "output_type": "stream",
     "text": [
      "Accesses the 2nd 2D slice::  [[13 14 15 16]\n",
      " [17 18 19 20]\n",
      " [21 22 23 24]]\n"
     ]
    }
   ],
   "execution_count": 2
  },
  {
   "metadata": {
    "ExecuteTime": {
     "end_time": "2024-09-26T08:55:55.281226Z",
     "start_time": "2024-09-26T08:55:55.275802Z"
    }
   },
   "cell_type": "code",
   "source": [
    "#Slicing along a specific axis:\n",
    "element = np_3d_array[:, 1, :]\n",
    "print('Accesses the second row from both 2D slices: ', element)"
   ],
   "id": "d54e3524ad458ba8",
   "outputs": [
    {
     "name": "stdout",
     "output_type": "stream",
     "text": [
      "Accesses the second row from both 2D slices:  [[ 5  6  7  8]\n",
      " [17 18 19 20]]\n"
     ]
    }
   ],
   "execution_count": 3
  },
  {
   "metadata": {
    "ExecuteTime": {
     "end_time": "2024-09-26T08:55:55.303332Z",
     "start_time": "2024-09-26T08:55:55.295168Z"
    }
   },
   "cell_type": "code",
   "source": [
    "np_5d_array = np.array([[[[[54, 82, 66, 74], [44, 91, 20, 32], [23, 78, 29, 83]],\n",
    "                          [[1, 44, 27, 15], [49, 80, 1, 56], [84, 39, 9, 53]]],\n",
    "                         [[[54, 37, 19, 59], [78, 85, 81, 50], [14, 85, 58, 74]],\n",
    "                          [[3, 76, 82, 96], [68, 14, 25, 1], [55, 4, 30, 21]]]], [\n",
    "                            [[[16, 39, 17, 60], [75, 95, 40, 11], [25, 86, 30, 29]],\n",
    "                             [[33, 54, 78, 93], [24, 50, 22, 62], [74, 35, 38, 65]]],\n",
    "                            [[[37, 58, 79, 31], [95, 22, 72, 82], [99, 36, 77, 21]],\n",
    "                             [[75, 30, 11, 4], [16, 44, 83, 87], [26, 32, 13, 47]]]]])\n"
   ],
   "id": "d78a27b882b1e13c",
   "outputs": [],
   "execution_count": 4
  },
  {
   "metadata": {
    "ExecuteTime": {
     "end_time": "2024-09-26T08:55:55.321435Z",
     "start_time": "2024-09-26T08:55:55.314997Z"
    }
   },
   "cell_type": "code",
   "source": [
    "# Slicing a 5D array (get all elements from the first two blocks)\n",
    "slice_5d = np_5d_array[0, 1, 1, :, :]\n",
    "print(\"Slice from 5D array:\\n\", slice_5d)"
   ],
   "id": "a8b062be0acd2d4c",
   "outputs": [
    {
     "name": "stdout",
     "output_type": "stream",
     "text": [
      "Slice from 5D array:\n",
      " [[ 3 76 82 96]\n",
      " [68 14 25  1]\n",
      " [55  4 30 21]]\n"
     ]
    }
   ],
   "execution_count": 5
  },
  {
   "metadata": {
    "ExecuteTime": {
     "end_time": "2024-09-26T08:55:55.338166Z",
     "start_time": "2024-09-26T08:55:55.333287Z"
    }
   },
   "cell_type": "code",
   "source": [
    "\n",
    "#Find even elements from 5D Array\n",
    "print('Find even elements from both rows: ', [np_5d_array[np_5d_array%2 == 0]])"
   ],
   "id": "dc835816a4ef7976",
   "outputs": [
    {
     "name": "stdout",
     "output_type": "stream",
     "text": [
      "Find even elements from both rows:  [array([54, 82, 66, 74, 44, 20, 32, 78, 44, 80, 56, 84, 54, 78, 50, 14, 58,\n",
      "       74, 76, 82, 96, 68, 14,  4, 30, 16, 60, 40, 86, 30, 54, 78, 24, 50,\n",
      "       22, 62, 74, 38, 58, 22, 72, 82, 36, 30,  4, 16, 44, 26, 32])]\n"
     ]
    }
   ],
   "execution_count": 6
  },
  {
   "metadata": {
    "ExecuteTime": {
     "end_time": "2024-09-26T08:55:55.351871Z",
     "start_time": "2024-09-26T08:55:55.347374Z"
    }
   },
   "cell_type": "code",
   "source": "print(np_5d_array[0,0,0,0, 1:4])",
   "id": "52d8f3bb5fd97276",
   "outputs": [
    {
     "name": "stdout",
     "output_type": "stream",
     "text": [
      "[82 66 74]\n"
     ]
    }
   ],
   "execution_count": 7
  }
 ],
 "metadata": {
  "kernelspec": {
   "display_name": "Python 3",
   "language": "python",
   "name": "python3"
  },
  "language_info": {
   "codemirror_mode": {
    "name": "ipython",
    "version": 2
   },
   "file_extension": ".py",
   "mimetype": "text/x-python",
   "name": "python",
   "nbconvert_exporter": "python",
   "pygments_lexer": "ipython2",
   "version": "2.7.6"
  }
 },
 "nbformat": 4,
 "nbformat_minor": 5
}
