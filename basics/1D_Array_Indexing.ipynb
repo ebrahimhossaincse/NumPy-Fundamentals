{
 "cells": [
  {
   "cell_type": "code",
   "id": "initial_id",
   "metadata": {
    "collapsed": true,
    "ExecuteTime": {
     "end_time": "2024-09-26T11:09:05.930833Z",
     "start_time": "2024-09-26T11:09:05.923099Z"
    }
   },
   "source": [
    "import numpy as np\n",
    "\n",
    "np_array = np.array([1, 2, 3, 4, 5, 6, 7, 8, 9, 10, 11, 12, 13, 14, 15, 16, 17, 18, 19, 20, 21, 22, 23, 24, 25, 26, 27, 28, 29, 30, 31, 32, 33, 34, 35, 36, 37, 38, 39, 40, 41, 42, 43, 44, 45, 46, 47, 48, 49, 50])\n",
    "print('Array: ',np_array)\n",
    "print('Data Type: ',np_array.dtype)\n",
    "print('Array Shape: ',np_array.shape)\n",
    "print('Array Size: ',np_array.size)"
   ],
   "outputs": [
    {
     "name": "stdout",
     "output_type": "stream",
     "text": [
      "Array:  [ 1  2  3  4  5  6  7  8  9 10 11 12 13 14 15 16 17 18 19 20 21 22 23 24\n",
      " 25 26 27 28 29 30 31 32 33 34 35 36 37 38 39 40 41 42 43 44 45 46 47 48\n",
      " 49 50]\n",
      "Data Type:  int32\n",
      "Array Shape:  (50,)\n",
      "Array Size:  50\n"
     ]
    }
   ],
   "execution_count": 7
  },
  {
   "metadata": {
    "ExecuteTime": {
     "end_time": "2024-09-26T11:09:06.073508Z",
     "start_time": "2024-09-26T11:09:06.067395Z"
    }
   },
   "cell_type": "code",
   "source": [
    "#Get the first element from the following array:\n",
    "print('First Index value of array: ',np_array[0])"
   ],
   "id": "d733562c51578cf6",
   "outputs": [
    {
     "name": "stdout",
     "output_type": "stream",
     "text": [
      "First Index value of array:  1\n"
     ]
    }
   ],
   "execution_count": 8
  },
  {
   "metadata": {
    "ExecuteTime": {
     "end_time": "2024-09-26T11:09:06.122454Z",
     "start_time": "2024-09-26T11:09:06.117538Z"
    }
   },
   "cell_type": "code",
   "source": [
    "#Get the second element from the following array.\n",
    "print('Seecond Index value of array: ',np_array[1])"
   ],
   "id": "69421705c3722396",
   "outputs": [
    {
     "name": "stdout",
     "output_type": "stream",
     "text": [
      "Seecond Index value of array:  2\n"
     ]
    }
   ],
   "execution_count": 9
  },
  {
   "metadata": {
    "ExecuteTime": {
     "end_time": "2024-09-26T11:09:06.192462Z",
     "start_time": "2024-09-26T11:09:06.186545Z"
    }
   },
   "cell_type": "code",
   "source": [
    "#Get the last element from the following array.\n",
    "print('Last Index value of array: ',np_array[49])"
   ],
   "id": "fbb71f0222829806",
   "outputs": [
    {
     "name": "stdout",
     "output_type": "stream",
     "text": [
      "Last Index value of array:  50\n"
     ]
    }
   ],
   "execution_count": 10
  },
  {
   "metadata": {
    "ExecuteTime": {
     "end_time": "2024-09-26T11:09:06.231803Z",
     "start_time": "2024-09-26T11:09:06.226047Z"
    }
   },
   "cell_type": "code",
   "source": [
    "#Get third and fourth elements from the following array and add them.\n",
    "print('Sum of third and fourth elements from the following array: ',np_array[2]+np_array[3])"
   ],
   "id": "89bd00490dc2968e",
   "outputs": [
    {
     "name": "stdout",
     "output_type": "stream",
     "text": [
      "Sum of third and fourth elements from the following array:  7\n"
     ]
    }
   ],
   "execution_count": 11
  },
  {
   "metadata": {
    "ExecuteTime": {
     "end_time": "2024-09-26T11:09:06.339379Z",
     "start_time": "2024-09-26T11:09:06.330969Z"
    }
   },
   "cell_type": "code",
   "source": [
    "#Print all the elements of array using the loop\n",
    "for index, element in enumerate(np_array):\n",
    "    print(f'Index: {index}', f'Value: {element}')"
   ],
   "id": "da7103941809d410",
   "outputs": [
    {
     "name": "stdout",
     "output_type": "stream",
     "text": [
      "Index: 0 Value: 1\n",
      "Index: 1 Value: 2\n",
      "Index: 2 Value: 3\n",
      "Index: 3 Value: 4\n",
      "Index: 4 Value: 5\n",
      "Index: 5 Value: 6\n",
      "Index: 6 Value: 7\n",
      "Index: 7 Value: 8\n",
      "Index: 8 Value: 9\n",
      "Index: 9 Value: 10\n",
      "Index: 10 Value: 11\n",
      "Index: 11 Value: 12\n",
      "Index: 12 Value: 13\n",
      "Index: 13 Value: 14\n",
      "Index: 14 Value: 15\n",
      "Index: 15 Value: 16\n",
      "Index: 16 Value: 17\n",
      "Index: 17 Value: 18\n",
      "Index: 18 Value: 19\n",
      "Index: 19 Value: 20\n",
      "Index: 20 Value: 21\n",
      "Index: 21 Value: 22\n",
      "Index: 22 Value: 23\n",
      "Index: 23 Value: 24\n",
      "Index: 24 Value: 25\n",
      "Index: 25 Value: 26\n",
      "Index: 26 Value: 27\n",
      "Index: 27 Value: 28\n",
      "Index: 28 Value: 29\n",
      "Index: 29 Value: 30\n",
      "Index: 30 Value: 31\n",
      "Index: 31 Value: 32\n",
      "Index: 32 Value: 33\n",
      "Index: 33 Value: 34\n",
      "Index: 34 Value: 35\n",
      "Index: 35 Value: 36\n",
      "Index: 36 Value: 37\n",
      "Index: 37 Value: 38\n",
      "Index: 38 Value: 39\n",
      "Index: 39 Value: 40\n",
      "Index: 40 Value: 41\n",
      "Index: 41 Value: 42\n",
      "Index: 42 Value: 43\n",
      "Index: 43 Value: 44\n",
      "Index: 44 Value: 45\n",
      "Index: 45 Value: 46\n",
      "Index: 46 Value: 47\n",
      "Index: 47 Value: 48\n",
      "Index: 48 Value: 49\n",
      "Index: 49 Value: 50\n"
     ]
    }
   ],
   "execution_count": 12
  }
 ],
 "metadata": {
  "kernelspec": {
   "display_name": "Python 3",
   "language": "python",
   "name": "python3"
  },
  "language_info": {
   "codemirror_mode": {
    "name": "ipython",
    "version": 2
   },
   "file_extension": ".py",
   "mimetype": "text/x-python",
   "name": "python",
   "nbconvert_exporter": "python",
   "pygments_lexer": "ipython2",
   "version": "2.7.6"
  }
 },
 "nbformat": 4,
 "nbformat_minor": 5
}
