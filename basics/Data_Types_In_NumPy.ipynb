{
 "cells": [
  {
   "cell_type": "code",
   "id": "initial_id",
   "metadata": {
    "collapsed": true,
    "ExecuteTime": {
     "end_time": "2024-09-23T11:48:32.169666Z",
     "start_time": "2024-09-23T11:48:32.163886Z"
    }
   },
   "source": [
    "import numpy as np\n",
    "\n",
    "'''\n",
    "i - integer\n",
    "b - boolean\n",
    "u - unsigned integer\n",
    "f - float\n",
    "c - complex float\n",
    "m - timedelta\n",
    "M - datetime\n",
    "O - object\n",
    "S - string\n",
    "U - unicode string\n",
    "V - fixed chunk of memory for other type ( void )\n",
    "'''"
   ],
   "outputs": [
    {
     "data": {
      "text/plain": [
       "'\\ni - integer\\nb - boolean\\nu - unsigned integer\\nf - float\\nc - complex float\\nm - timedelta\\nM - datetime\\nO - object\\nS - string\\nU - unicode string\\nV - fixed chunk of memory for other type ( void )\\n'"
      ]
     },
     "execution_count": 24,
     "metadata": {},
     "output_type": "execute_result"
    }
   ],
   "execution_count": 24
  },
  {
   "metadata": {
    "ExecuteTime": {
     "end_time": "2024-09-23T11:48:32.202561Z",
     "start_time": "2024-09-23T11:48:32.198518Z"
    }
   },
   "cell_type": "code",
   "source": [
    "#Integer\n",
    "np_int_array = np.array([1, 2, 3], dtype='i')\n",
    "print(np_int_array)\n",
    "print(np_int_array.dtype)"
   ],
   "id": "3382bcf42ea822be",
   "outputs": [
    {
     "name": "stdout",
     "output_type": "stream",
     "text": [
      "[1 2 3]\n",
      "int32\n"
     ]
    }
   ],
   "execution_count": 25
  },
  {
   "metadata": {
    "ExecuteTime": {
     "end_time": "2024-09-23T11:48:32.220314Z",
     "start_time": "2024-09-23T11:48:32.215434Z"
    }
   },
   "cell_type": "code",
   "source": [
    "#Boolean\n",
    "np_boolean_array = np.array([True, False, True], dtype='b')\n",
    "print(np_boolean_array)\n",
    "print(np_boolean_array.dtype)"
   ],
   "id": "e52e786140fcb43a",
   "outputs": [
    {
     "name": "stdout",
     "output_type": "stream",
     "text": [
      "[1 0 1]\n",
      "int8\n"
     ]
    }
   ],
   "execution_count": 26
  },
  {
   "metadata": {
    "ExecuteTime": {
     "end_time": "2024-09-23T11:48:32.260371Z",
     "start_time": "2024-09-23T11:48:32.255150Z"
    }
   },
   "cell_type": "code",
   "source": [
    "#Unsigned Integer\n",
    "np_unsigned_int_array = np.array([1, 2, 3], dtype=np.uint32)\n",
    "print(np_unsigned_int_array)\n",
    "print(np_unsigned_int_array.dtype)"
   ],
   "id": "32a3dee0fb59cc51",
   "outputs": [
    {
     "name": "stdout",
     "output_type": "stream",
     "text": [
      "[1 2 3]\n",
      "uint32\n"
     ]
    }
   ],
   "execution_count": 27
  },
  {
   "metadata": {
    "ExecuteTime": {
     "end_time": "2024-09-23T11:48:32.363917Z",
     "start_time": "2024-09-23T11:48:32.359821Z"
    }
   },
   "cell_type": "code",
   "source": [
    "#Float\n",
    "np_float_array = np.array([1.1, 2.2, 3.3], dtype='f')\n",
    "print(np_float_array)\n",
    "print(np_float_array.dtype)"
   ],
   "id": "66c87b042943df21",
   "outputs": [
    {
     "name": "stdout",
     "output_type": "stream",
     "text": [
      "[1.1 2.2 3.3]\n",
      "float32\n"
     ]
    }
   ],
   "execution_count": 28
  },
  {
   "metadata": {
    "ExecuteTime": {
     "end_time": "2024-09-23T11:48:32.486578Z",
     "start_time": "2024-09-23T11:48:32.482243Z"
    }
   },
   "cell_type": "code",
   "source": [
    "#Complex Float\n",
    "np_complex_float_array = np.array([1+2j, 3+4j], dtype='c')\n",
    "print(np_complex_float_array)\n",
    "print(np_complex_float_array.dtype)"
   ],
   "id": "da954c63dc366baf",
   "outputs": [
    {
     "name": "stdout",
     "output_type": "stream",
     "text": [
      "[b'(' b'(']\n",
      "|S1\n"
     ]
    }
   ],
   "execution_count": 29
  },
  {
   "metadata": {
    "ExecuteTime": {
     "end_time": "2024-09-23T11:48:32.564988Z",
     "start_time": "2024-09-23T11:48:32.560148Z"
    }
   },
   "cell_type": "code",
   "source": [
    "#Timedelta\n",
    "np_timeDelta_array = np.array([1, 2, 3], dtype='m')\n",
    "print(np_timeDelta_array)\n",
    "print(np_timeDelta_array.dtype)"
   ],
   "id": "e163cfe74ba85f51",
   "outputs": [
    {
     "name": "stdout",
     "output_type": "stream",
     "text": [
      "[1 2 3]\n",
      "timedelta64\n"
     ]
    }
   ],
   "execution_count": 30
  },
  {
   "metadata": {
    "ExecuteTime": {
     "end_time": "2024-09-23T11:48:32.641242Z",
     "start_time": "2024-09-23T11:48:32.637110Z"
    }
   },
   "cell_type": "code",
   "source": [
    "#Datetime \n",
    "np_datetime_array = np.array(['2024-09-23', '2023-01-02'], dtype='M')\n",
    "print(np_datetime_array)\n",
    "print(np_datetime_array.dtype)"
   ],
   "id": "af109cf2b2510e24",
   "outputs": [
    {
     "name": "stdout",
     "output_type": "stream",
     "text": [
      "['2024-09-23' '2023-01-02']\n",
      "datetime64[D]\n"
     ]
    }
   ],
   "execution_count": 31
  },
  {
   "metadata": {
    "ExecuteTime": {
     "end_time": "2024-09-23T11:48:32.699673Z",
     "start_time": "2024-09-23T11:48:32.694718Z"
    }
   },
   "cell_type": "code",
   "source": [
    "#Object\n",
    "np_object_array = np.array([1, 'apple', 3.14], dtype='O')\n",
    "print(np_object_array)\n",
    "print(np_object_array.dtype)"
   ],
   "id": "cb90e071f772993d",
   "outputs": [
    {
     "name": "stdout",
     "output_type": "stream",
     "text": [
      "[1 'apple' 3.14]\n",
      "object\n"
     ]
    }
   ],
   "execution_count": 32
  },
  {
   "metadata": {
    "ExecuteTime": {
     "end_time": "2024-09-23T11:49:01.988790Z",
     "start_time": "2024-09-23T11:49:01.982853Z"
    }
   },
   "cell_type": "code",
   "source": [
    "#String\n",
    "np_string_array = np.array([b'hello', b'world'], dtype='S')\n",
    "print(np_string_array)\n",
    "print(np_string_array.dtype)"
   ],
   "id": "ba62892450d943ad",
   "outputs": [
    {
     "name": "stdout",
     "output_type": "stream",
     "text": [
      "[b'hello' b'world']\n",
      "|S5\n"
     ]
    }
   ],
   "execution_count": 33
  },
  {
   "metadata": {
    "ExecuteTime": {
     "end_time": "2024-09-23T11:49:36.245640Z",
     "start_time": "2024-09-23T11:49:36.240940Z"
    }
   },
   "cell_type": "code",
   "source": [
    "#Unicode String\n",
    "np_unicode_string_array = np.array(['hello', 'world'], dtype='U')\n",
    "print(np_unicode_string_array)\n",
    "print(np_unicode_string_array.dtype)"
   ],
   "id": "3b03c1543deaee9",
   "outputs": [
    {
     "name": "stdout",
     "output_type": "stream",
     "text": [
      "['hello' 'world']\n",
      "<U5\n"
     ]
    }
   ],
   "execution_count": 34
  },
  {
   "metadata": {
    "ExecuteTime": {
     "end_time": "2024-09-23T11:51:17.013579Z",
     "start_time": "2024-09-23T11:51:17.004142Z"
    }
   },
   "cell_type": "code",
   "source": [
    "#Void\n",
    "dt = np.dtype([('letter', 'S1'), ('number', 'i4')])\n",
    "\n",
    "np_void_array = np.array([('x', 1), ('y', 2)], dtype=dt)\n",
    "print(np_void_array)\n",
    "print(np_void_array.dtype)"
   ],
   "id": "b96c5b9290aea2bc",
   "outputs": [
    {
     "name": "stdout",
     "output_type": "stream",
     "text": [
      "[(b'x', 1) (b'y', 2)]\n",
      "[('letter', 'S1'), ('number', '<i4')]\n"
     ]
    }
   ],
   "execution_count": 36
  }
 ],
 "metadata": {
  "kernelspec": {
   "display_name": "Python 3",
   "language": "python",
   "name": "python3"
  },
  "language_info": {
   "codemirror_mode": {
    "name": "ipython",
    "version": 2
   },
   "file_extension": ".py",
   "mimetype": "text/x-python",
   "name": "python",
   "nbconvert_exporter": "python",
   "pygments_lexer": "ipython2",
   "version": "2.7.6"
  }
 },
 "nbformat": 4,
 "nbformat_minor": 5
}
