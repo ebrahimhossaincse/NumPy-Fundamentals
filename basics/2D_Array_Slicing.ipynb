{
 "cells": [
  {
   "cell_type": "code",
   "id": "initial_id",
   "metadata": {
    "collapsed": true,
    "ExecuteTime": {
     "end_time": "2024-09-23T10:40:49.212754Z",
     "start_time": "2024-09-23T10:40:49.172558Z"
    }
   },
   "source": [
    "import numpy as np\n",
    "\n",
    "np_2d_array = np.array([[1, 2, 3, 4, 5, 6, 7, 8, 9, 10, 11, 12, 13, 14, 15, 16, 17, 18, 19, 20, 21, 22, 23, 24, 25], [26, 27, 28, 29, 30, 31, 32, 33, 34, 35, 36, 37, 38, 39, 40, 41, 42, 43, 44, 45, 46, 47, 48, 49, 50]])\n",
    "print(np_2d_array)"
   ],
   "outputs": [
    {
     "name": "stdout",
     "output_type": "stream",
     "text": [
      "[[ 1  2  3  4  5  6  7  8  9 10 11 12 13 14 15 16 17 18 19 20 21 22 23 24\n",
      "  25]\n",
      " [26 27 28 29 30 31 32 33 34 35 36 37 38 39 40 41 42 43 44 45 46 47 48 49\n",
      "  50]]\n"
     ]
    }
   ],
   "execution_count": 39
  },
  {
   "metadata": {
    "ExecuteTime": {
     "end_time": "2024-09-23T10:40:49.248473Z",
     "start_time": "2024-09-23T10:40:49.242931Z"
    }
   },
   "cell_type": "code",
   "source": [
    "#From the second element, slice elements from index 1 to index 4 (not included):\n",
    "print('From the second element, slice elements from index 1 to index 4 (not included): ', np_2d_array[1, 1:4])"
   ],
   "id": "48d9996af4e22020",
   "outputs": [
    {
     "name": "stdout",
     "output_type": "stream",
     "text": [
      "From the second element, slice elements from index 1 to index 4 (not included):  [27 28 29]\n"
     ]
    }
   ],
   "execution_count": 40
  },
  {
   "metadata": {
    "ExecuteTime": {
     "end_time": "2024-09-23T10:40:49.271697Z",
     "start_time": "2024-09-23T10:40:49.266913Z"
    }
   },
   "cell_type": "code",
   "source": [
    "#From both elements, slice index 1 to index 4 (not included)\n",
    "print('From both elements, slice index 1 to index 4 (not included): ',np_2d_array[0:, 1:4])"
   ],
   "id": "24e0b1ef377f2f9d",
   "outputs": [
    {
     "name": "stdout",
     "output_type": "stream",
     "text": [
      "From both elements, slice index 1 to index 4 (not included):  [[ 2  3  4]\n",
      " [27 28 29]]\n"
     ]
    }
   ],
   "execution_count": 41
  },
  {
   "metadata": {
    "ExecuteTime": {
     "end_time": "2024-09-23T10:40:49.312266Z",
     "start_time": "2024-09-23T10:40:49.308124Z"
    }
   },
   "cell_type": "code",
   "source": [
    "#Single Row\n",
    "print('Single Row -> First Row Value:  ', np_2d_array[0])"
   ],
   "id": "2a0ca54ac4b35a5b",
   "outputs": [
    {
     "name": "stdout",
     "output_type": "stream",
     "text": [
      "Single Row -> First Row Value:   [ 1  2  3  4  5  6  7  8  9 10 11 12 13 14 15 16 17 18 19 20 21 22 23 24\n",
      " 25]\n"
     ]
    }
   ],
   "execution_count": 42
  },
  {
   "metadata": {
    "ExecuteTime": {
     "end_time": "2024-09-23T10:40:49.340712Z",
     "start_time": "2024-09-23T10:40:49.337370Z"
    }
   },
   "cell_type": "code",
   "source": [
    "#First Column\n",
    "print('First Column: ', [row[0] for row in np_2d_array])"
   ],
   "id": "586395c12d8b6acb",
   "outputs": [
    {
     "name": "stdout",
     "output_type": "stream",
     "text": [
      "First Column:  [1, 26]\n"
     ]
    }
   ],
   "execution_count": 43
  },
  {
   "metadata": {
    "ExecuteTime": {
     "end_time": "2024-09-23T10:40:49.386152Z",
     "start_time": "2024-09-23T10:40:49.380465Z"
    }
   },
   "cell_type": "code",
   "source": [
    "#Top Left 2x3 Submatrix - Sample 1\n",
    "print('Top Left 2x3 Submatrix: ', np_2d_array[:, :3])\n",
    "#Top Left 2x3 Submatrix - Sample 2\n",
    "submatrix_2x5 = [row[:5] for row in np_2d_array[:2]]\n",
    "print('Top Left 2x5 Submatrix: ', submatrix_2x5)"
   ],
   "id": "adc0d8ede18c678d",
   "outputs": [
    {
     "name": "stdout",
     "output_type": "stream",
     "text": [
      "Top Left 2x3 Submatrix:  [[ 1  2  3]\n",
      " [26 27 28]]\n",
      "Top Left 2x5 Submatrix:  [array([1, 2, 3, 4, 5]), array([26, 27, 28, 29, 30])]\n"
     ]
    }
   ],
   "execution_count": 44
  },
  {
   "metadata": {
    "ExecuteTime": {
     "end_time": "2024-09-23T10:40:49.412896Z",
     "start_time": "2024-09-23T10:40:49.406880Z"
    }
   },
   "cell_type": "code",
   "source": [
    "#Bottom Right 2x3 Submatrix\n",
    "print('Bottom Right 2x3 Submatrix: ', np_2d_array[:, -3:])\n",
    "#Bottom Right 2x5 Submatrix\n",
    "print('Bottom Right 2x5 Submatrix: ', [row[-5:] for row in np_2d_array[:2]])"
   ],
   "id": "294046c34e56f3c7",
   "outputs": [
    {
     "name": "stdout",
     "output_type": "stream",
     "text": [
      "Bottom Right 2x3 Submatrix:  [[23 24 25]\n",
      " [48 49 50]]\n",
      "Bottom Right 2x5 Submatrix:  [array([21, 22, 23, 24, 25]), array([46, 47, 48, 49, 50])]\n"
     ]
    }
   ],
   "execution_count": 45
  },
  {
   "metadata": {
    "ExecuteTime": {
     "end_time": "2024-09-23T10:40:49.455061Z",
     "start_time": "2024-09-23T10:40:49.450354Z"
    }
   },
   "cell_type": "code",
   "source": [
    "# Slicing a Range of Rows and Columns\n",
    "# First Row, First Three Columns\n",
    "print('First Row, First Three Columns: ', np_2d_array[0][:3])\n",
    "\n",
    "#Second Row, Last Four Columns\n",
    "print('Second Row, Last Four Columns: ', np_2d_array[1][-4:])"
   ],
   "id": "f1021101b1e2985",
   "outputs": [
    {
     "name": "stdout",
     "output_type": "stream",
     "text": [
      "First Row, First Three Columns:  [1 2 3]\n",
      "Second Row, Last Four Columns:  [47 48 49 50]\n"
     ]
    }
   ],
   "execution_count": 46
  },
  {
   "metadata": {
    "ExecuteTime": {
     "end_time": "2024-09-23T10:40:49.576682Z",
     "start_time": "2024-09-23T10:40:49.561240Z"
    }
   },
   "cell_type": "code",
   "source": [
    "#Every Second Element from First Row\n",
    "print('Every Second Element from First Row: ', np_2d_array[0][::2])"
   ],
   "id": "7fe43202dbc24b7b",
   "outputs": [
    {
     "name": "stdout",
     "output_type": "stream",
     "text": [
      "Every Second Element from First Row:  [ 1  3  5  7  9 11 13 15 17 19 21 23 25]\n"
     ]
    }
   ],
   "execution_count": 47
  },
  {
   "metadata": {
    "ExecuteTime": {
     "end_time": "2024-09-23T10:40:49.684079Z",
     "start_time": "2024-09-23T10:40:49.680277Z"
    }
   },
   "cell_type": "code",
   "source": [
    "#Every Second Element from Both Rows:\n",
    "print('Every Second Element from Both Rows: ', [row[::2] for row in np_2d_array])"
   ],
   "id": "4adda1aa2d8db42d",
   "outputs": [
    {
     "name": "stdout",
     "output_type": "stream",
     "text": [
      "Every Second Element from Both Rows:  [array([ 1,  3,  5,  7,  9, 11, 13, 15, 17, 19, 21, 23, 25]), array([26, 28, 30, 32, 34, 36, 38, 40, 42, 44, 46, 48, 50])]\n"
     ]
    }
   ],
   "execution_count": 48
  },
  {
   "metadata": {
    "ExecuteTime": {
     "end_time": "2024-09-23T10:40:49.773554Z",
     "start_time": "2024-09-23T10:40:49.768749Z"
    }
   },
   "cell_type": "code",
   "source": [
    "#Find even elements from both rows\n",
    "print('Find even elements from both rows: ', [np_2d_array[np_2d_array%2 == 0]])"
   ],
   "id": "d227c80b25a2e4d1",
   "outputs": [
    {
     "name": "stdout",
     "output_type": "stream",
     "text": [
      "Find even elements from both rows:  [array([ 2,  4,  6,  8, 10, 12, 14, 16, 18, 20, 22, 24, 26, 28, 30, 32, 34,\n",
      "       36, 38, 40, 42, 44, 46, 48, 50])]\n"
     ]
    }
   ],
   "execution_count": 49
  },
  {
   "metadata": {
    "ExecuteTime": {
     "end_time": "2024-09-23T10:40:49.842722Z",
     "start_time": "2024-09-23T10:40:49.839397Z"
    }
   },
   "cell_type": "code",
   "source": "",
   "id": "a939fe1948926c5d",
   "outputs": [],
   "execution_count": null
  }
 ],
 "metadata": {
  "kernelspec": {
   "display_name": "Python 3",
   "language": "python",
   "name": "python3"
  },
  "language_info": {
   "codemirror_mode": {
    "name": "ipython",
    "version": 2
   },
   "file_extension": ".py",
   "mimetype": "text/x-python",
   "name": "python",
   "nbconvert_exporter": "python",
   "pygments_lexer": "ipython2",
   "version": "2.7.6"
  }
 },
 "nbformat": 4,
 "nbformat_minor": 5
}
