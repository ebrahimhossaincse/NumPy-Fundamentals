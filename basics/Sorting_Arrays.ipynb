{
 "cells": [
  {
   "cell_type": "code",
   "id": "initial_id",
   "metadata": {
    "collapsed": true,
    "ExecuteTime": {
     "end_time": "2024-09-26T08:55:57.043334Z",
     "start_time": "2024-09-26T08:55:56.993618Z"
    }
   },
   "source": "import numpy as np",
   "outputs": [],
   "execution_count": 10
  },
  {
   "metadata": {
    "ExecuteTime": {
     "end_time": "2024-09-26T08:55:57.072582Z",
     "start_time": "2024-09-26T08:55:57.052137Z"
    }
   },
   "cell_type": "code",
   "source": [
    "#Sorting a 1D Array\n",
    "\n",
    "# Define a 1D array\n",
    "arr_1d = np.array([12, 5, 7, 3, 19, 2, 9])\n",
    "\n",
    "# Sort the array\n",
    "sorted_arr_1d = np.sort(arr_1d)\n",
    "\n",
    "print(\"Original 1D array:\")\n",
    "print(arr_1d)\n",
    "\n",
    "print(\"\\nSorted 1D array:\")\n",
    "print(sorted_arr_1d)\n"
   ],
   "id": "ba34f87dd333ebf6",
   "outputs": [
    {
     "name": "stdout",
     "output_type": "stream",
     "text": [
      "Original 1D array:\n",
      "[12  5  7  3 19  2  9]\n",
      "\n",
      "Sorted 1D array:\n",
      "[ 2  3  5  7  9 12 19]\n"
     ]
    }
   ],
   "execution_count": 11
  },
  {
   "metadata": {
    "ExecuteTime": {
     "end_time": "2024-09-26T08:55:57.103064Z",
     "start_time": "2024-09-26T08:55:57.095881Z"
    }
   },
   "cell_type": "code",
   "source": [
    "#Sorting a 2D Array Along Rows\n",
    "\n",
    "# Define a 2D array\n",
    "arr_2d = np.array([[12, 5, 7], [3, 19, 2], [9, 6, 10]])\n",
    "\n",
    "# Sort each row\n",
    "sorted_arr_2d_rows = np.sort(arr_2d, axis=1)\n",
    "\n",
    "print(\"Original 2D array:\")\n",
    "print(arr_2d)\n",
    "\n",
    "print(\"\\n2D array sorted along rows:\")\n",
    "print(sorted_arr_2d_rows)"
   ],
   "id": "8d66ea6248c0ca42",
   "outputs": [
    {
     "name": "stdout",
     "output_type": "stream",
     "text": [
      "Original 2D array:\n",
      "[[12  5  7]\n",
      " [ 3 19  2]\n",
      " [ 9  6 10]]\n",
      "\n",
      "2D array sorted along rows:\n",
      "[[ 5  7 12]\n",
      " [ 2  3 19]\n",
      " [ 6  9 10]]\n"
     ]
    }
   ],
   "execution_count": 12
  },
  {
   "metadata": {
    "ExecuteTime": {
     "end_time": "2024-09-26T08:55:57.196907Z",
     "start_time": "2024-09-26T08:55:57.191006Z"
    }
   },
   "cell_type": "code",
   "source": [
    "#Sorting a 2D Array Along Columns\n",
    "\n",
    "# Define a 2D array\n",
    "arr_2d = np.array([[12, 5, 7], [3, 19, 2], [9, 6, 10]])\n",
    "\n",
    "# Sort each column\n",
    "sorted_arr_2d_columns = np.sort(arr_2d, axis=0)\n",
    "\n",
    "print(\"Original 2D array:\")\n",
    "print(arr_2d)\n",
    "\n",
    "print(\"\\n2D array sorted along columns:\")\n",
    "print(sorted_arr_2d_columns)"
   ],
   "id": "dab19781d9a3b16d",
   "outputs": [
    {
     "name": "stdout",
     "output_type": "stream",
     "text": [
      "Original 2D array:\n",
      "[[12  5  7]\n",
      " [ 3 19  2]\n",
      " [ 9  6 10]]\n",
      "\n",
      "2D array sorted along columns:\n",
      "[[ 3  5  2]\n",
      " [ 9  6  7]\n",
      " [12 19 10]]\n"
     ]
    }
   ],
   "execution_count": 13
  },
  {
   "metadata": {
    "ExecuteTime": {
     "end_time": "2024-09-26T08:55:57.341606Z",
     "start_time": "2024-09-26T08:55:57.324722Z"
    }
   },
   "cell_type": "code",
   "source": [
    "#Sorting a 1D Array in Descending Order\n",
    "# Define a 1D array\n",
    "arr_1d = np.array([12, 5, 7, 3, 19, 2, 9])\n",
    "\n",
    "# Sort the array in descending order\n",
    "sorted_arr_1d_desc = np.sort(arr_1d)[::-1]\n",
    "\n",
    "print(\"1D array sorted in descending order:\")\n",
    "print(sorted_arr_1d_desc)"
   ],
   "id": "6ece46723240d1fa",
   "outputs": [
    {
     "name": "stdout",
     "output_type": "stream",
     "text": [
      "1D array sorted in descending order:\n",
      "[19 12  9  7  5  3  2]\n"
     ]
    }
   ],
   "execution_count": 14
  }
 ],
 "metadata": {
  "kernelspec": {
   "display_name": "Python 3",
   "language": "python",
   "name": "python3"
  },
  "language_info": {
   "codemirror_mode": {
    "name": "ipython",
    "version": 2
   },
   "file_extension": ".py",
   "mimetype": "text/x-python",
   "name": "python",
   "nbconvert_exporter": "python",
   "pygments_lexer": "ipython2",
   "version": "2.7.6"
  }
 },
 "nbformat": 4,
 "nbformat_minor": 5
}
